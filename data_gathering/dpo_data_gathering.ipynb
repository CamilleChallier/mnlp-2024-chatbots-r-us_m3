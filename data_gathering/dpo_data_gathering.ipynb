{
 "cells": [
  {
   "cell_type": "code",
   "execution_count": 1,
   "metadata": {},
   "outputs": [],
   "source": [
    "import datasets\n",
    "from datasets import load_dataset, concatenate_datasets\n",
    "from sklearn.model_selection import train_test_split\n",
    "import pandas as pd\n",
    "import random\n",
    "import json\n",
    "import os\n",
    "import numpy as np"
   ]
  },
  {
   "cell_type": "code",
   "execution_count": 2,
   "metadata": {},
   "outputs": [],
   "source": [
    "m1_dpo = load_dataset(\"json\", data_files=\"model/datasets/M1_preference_data_15052024.json\")"
   ]
  },
  {
   "cell_type": "code",
   "execution_count": 3,
   "metadata": {},
   "outputs": [
    {
     "data": {
      "text/plain": [
       "Dataset({\n",
       "    features: ['preference', 'question_id', 'question_complete', 'course_id'],\n",
       "    num_rows: 1522\n",
       "})"
      ]
     },
     "execution_count": 3,
     "metadata": {},
     "output_type": "execute_result"
    }
   ],
   "source": [
    "m1_dpo[\"train\"]"
   ]
  },
  {
   "cell_type": "code",
   "execution_count": 4,
   "metadata": {},
   "outputs": [
    {
     "data": {
      "text/plain": [
       "18.0"
      ]
     },
     "execution_count": 4,
     "metadata": {},
     "output_type": "execute_result"
    }
   ],
   "source": [
    "np.median([len(p) for p in m1_dpo[\"train\"][\"preference\"]])"
   ]
  },
  {
   "cell_type": "code",
   "execution_count": 7,
   "metadata": {},
   "outputs": [
    {
     "data": {
      "text/plain": [
       "17.567674113009197"
      ]
     },
     "execution_count": 7,
     "metadata": {},
     "output_type": "execute_result"
    }
   ],
   "source": [
    "np.mean([len(p) for p in m1_dpo[\"train\"][\"preference\"]])"
   ]
  },
  {
   "cell_type": "code",
   "execution_count": 6,
   "metadata": {},
   "outputs": [
    {
     "data": {
      "text/plain": [
       "37"
      ]
     },
     "execution_count": 6,
     "metadata": {},
     "output_type": "execute_result"
    }
   ],
   "source": [
    "np.max([len(p) for p in m1_dpo[\"train\"][\"preference\"]])"
   ]
  },
  {
   "cell_type": "code",
   "execution_count": 5,
   "metadata": {},
   "outputs": [
    {
     "data": {
      "text/plain": [
       "1"
      ]
     },
     "execution_count": 5,
     "metadata": {},
     "output_type": "execute_result"
    }
   ],
   "source": [
    "np.min([len(p) for p in m1_dpo[\"train\"][\"preference\"]])"
   ]
  },
  {
   "cell_type": "code",
   "execution_count": 7,
   "metadata": {},
   "outputs": [],
   "source": [
    "def check_length_by_words(pair, min_words = 30, max_words = 200):\n",
    "    return (min_words <= len(pair['A'].split()) <= max_words) and (min_words <= len(pair['B'].split()) <= max_words)\n",
    "\n",
    "def check_length_by_characters(pair, min_length = 200, max_length = 700):\n",
    "    return (min_length <= len(pair['A'].split()) <= max_length) and (min_length <= len(pair['B'].split()) <= max_length)\n",
    "\n",
    "def filter_by_length(sample:dict, check=check_length_by_characters):\n",
    "    for pair in sample[\"preference\"]:\n",
    "        # print(len(pair['A']))\n",
    "        # print(len(pair['B']))\n",
    "        if check(pair):\n",
    "            return True\n",
    "    return False "
   ]
  },
  {
   "cell_type": "code",
   "execution_count": 8,
   "metadata": {},
   "outputs": [
    {
     "data": {
      "application/vnd.jupyter.widget-view+json": {
       "model_id": "c501889ab1e649f0954edc0f33d4731b",
       "version_major": 2,
       "version_minor": 0
      },
      "text/plain": [
       "Filter:   0%|          | 0/1522 [00:00<?, ? examples/s]"
      ]
     },
     "metadata": {},
     "output_type": "display_data"
    },
    {
     "data": {
      "text/plain": [
       "Dataset({\n",
       "    features: ['preference', 'question_id', 'question_complete', 'course_id'],\n",
       "    num_rows: 1202\n",
       "})"
      ]
     },
     "execution_count": 8,
     "metadata": {},
     "output_type": "execute_result"
    }
   ],
   "source": [
    "m1_dpo[\"train\"].filter(filter_by_length)"
   ]
  },
  {
   "cell_type": "code",
   "execution_count": 11,
   "metadata": {},
   "outputs": [
    {
     "data": {
      "application/vnd.jupyter.widget-view+json": {
       "model_id": "b1007a1cd42044fd90aa4775fb338686",
       "version_major": 2,
       "version_minor": 0
      },
      "text/plain": [
       "Filter:   0%|          | 0/1202 [00:00<?, ? examples/s]"
      ]
     },
     "metadata": {},
     "output_type": "display_data"
    },
    {
     "data": {
      "application/vnd.jupyter.widget-view+json": {
       "model_id": "329426d8590d4e1499e1cbbad10b058b",
       "version_major": 2,
       "version_minor": 0
      },
      "text/plain": [
       "Map:   0%|          | 0/1202 [00:00<?, ? examples/s]"
      ]
     },
     "metadata": {},
     "output_type": "display_data"
    }
   ],
   "source": [
    "from typing import Literal\n",
    "def choose_preference_pair_id(prefenrences:list[dict], method:Literal[\"random\", \"length_in_characters\"]=\"length_in_characters\"):\n",
    "    if method==\"random\":\n",
    "        preference_pair_id = random.randint(0, len(prefenrences)-1)\n",
    "    elif method == \"length_in_characters\":\n",
    "        # choose_from_idxs = []\n",
    "        # for i, pair in enumerate(prefenrences):\n",
    "        #     print(f\"{pair=}\")\n",
    "        #     if ((len(pair['A']) > min_length) and (len(pair['B']) > min_length)):\n",
    "        #         choose_from_idxs += [i]\n",
    "        choose_from_idxs = [i for i, pair in enumerate(prefenrences) if check_length_by_characters(pair)]\n",
    "        # print(choose_from_idxs)\n",
    "        preference_pair_id = random.choice(choose_from_idxs)\n",
    "    return preference_pair_id\n",
    "\n",
    "\n",
    "def choose_random_preference_pair(sample:dict)->dict:\n",
    "    preference_pair_id = choose_preference_pair_id(sample[\"preference\"])\n",
    "    chosen_key = sample[\"preference\"][preference_pair_id]['criteria']['overall']\n",
    "    other_mapping = {\n",
    "        'A':'B',\n",
    "        'B':'A'\n",
    "    }\n",
    "    rejected_key = other_mapping[chosen_key]\n",
    "    sample[\"chosen\"] = sample[\"preference\"][preference_pair_id][chosen_key]\n",
    "    sample[\"rejected\"] = sample[\"preference\"][preference_pair_id][rejected_key]\n",
    "    sample[\"prompt\"] = sample[\"question_complete\"]\n",
    "    for useless_key in ['preference', 'course_id', 'question_complete', 'question_id']:\n",
    "        sample.pop(useless_key)\n",
    "    # sample = {k:v for k, v in sample.items() if k in [\"chosen\", \"rejected\", \"prompt\"]}\n",
    "    return sample\n",
    "\n",
    "\n",
    "# random.seed(42)\n",
    "# m1_dpo[\"train\"] = m1_dpo[\"train\"].filter(filter_by_length)\n",
    "# m1_dpo[\"train\"] = m1_dpo[\"train\"].map(choose_random_preference_pair)"
   ]
  },
  {
   "cell_type": "code",
   "execution_count": 9,
   "metadata": {},
   "outputs": [
    {
     "data": {
      "text/plain": [
       "Dataset({\n",
       "    features: ['preference', 'question_id', 'question_complete', 'course_id'],\n",
       "    num_rows: 1522\n",
       "})"
      ]
     },
     "execution_count": 9,
     "metadata": {},
     "output_type": "execute_result"
    }
   ],
   "source": [
    "m1_dpo[\"train\"]"
   ]
  },
  {
   "cell_type": "code",
   "execution_count": 14,
   "metadata": {},
   "outputs": [],
   "source": [
    "full_data = []\n",
    "other_mapping = {\n",
    "    'A':'B',\n",
    "    'B':'A'\n",
    "}\n",
    "\n",
    "min_length = 200\n",
    "\n",
    "for preference_pairs, prompt in zip(m1_dpo[\"train\"]['preference'], m1_dpo[\"train\"]['question_complete']):\n",
    "    for pair in preference_pairs:\n",
    "        if (min_length <= len(pair['A'])) and (min_length <= len(pair['B'])):\n",
    "            chosen_key = pair['criteria']['overall']\n",
    "            rejected_key = other_mapping[chosen_key]\n",
    "            full_data.append(\n",
    "                {\n",
    "                    'prompt' : prompt,\n",
    "                    'chosen' : pair[chosen_key],\n",
    "                    'rejected' : pair[rejected_key]\n",
    "                }\n",
    "            )\n",
    "            \n",
    "import jsonlines\n",
    "with jsonlines.open('model/datasets/dpo_M1_all_pairs_length-sup-200-char.jsonl', 'w') as writer:\n",
    "    writer.write_all(full_data)\n",
    "    "
   ]
  },
  {
   "cell_type": "code",
   "execution_count": 15,
   "metadata": {},
   "outputs": [
    {
     "data": {
      "application/vnd.jupyter.widget-view+json": {
       "model_id": "d2efd625034246049ef7be6932e0f29b",
       "version_major": 2,
       "version_minor": 0
      },
      "text/plain": [
       "Generating train split: 0 examples [00:00, ? examples/s]"
      ]
     },
     "metadata": {},
     "output_type": "display_data"
    },
    {
     "data": {
      "text/plain": [
       "DatasetDict({\n",
       "    train: Dataset({\n",
       "        features: ['prompt', 'chosen', 'rejected'],\n",
       "        num_rows: 23446\n",
       "    })\n",
       "})"
      ]
     },
     "execution_count": 15,
     "metadata": {},
     "output_type": "execute_result"
    }
   ],
   "source": [
    "new_M1 = load_dataset(\"json\", data_files='model/datasets/dpo_M1_all_pairs_length-sup-200-char.jsonl')\n",
    "new_M1"
   ]
  },
  {
   "cell_type": "code",
   "execution_count": 17,
   "metadata": {},
   "outputs": [],
   "source": [
    "new_M1 = new_M1['train'].train_test_split(0.1)"
   ]
  },
  {
   "cell_type": "code",
   "execution_count": 18,
   "metadata": {},
   "outputs": [
    {
     "data": {
      "text/plain": [
       "DatasetDict({\n",
       "    train: Dataset({\n",
       "        features: ['prompt', 'chosen', 'rejected'],\n",
       "        num_rows: 21101\n",
       "    })\n",
       "    test: Dataset({\n",
       "        features: ['prompt', 'chosen', 'rejected'],\n",
       "        num_rows: 2345\n",
       "    })\n",
       "})"
      ]
     },
     "execution_count": 18,
     "metadata": {},
     "output_type": "execute_result"
    }
   ],
   "source": [
    "new_M1"
   ]
  },
  {
   "cell_type": "code",
   "execution_count": 19,
   "metadata": {},
   "outputs": [
    {
     "data": {
      "application/vnd.jupyter.widget-view+json": {
       "model_id": "adf082afa6374ed6b76042df4b448127",
       "version_major": 2,
       "version_minor": 0
      },
      "text/plain": [
       "Creating json from Arrow format:   0%|          | 0/22 [00:00<?, ?ba/s]"
      ]
     },
     "metadata": {},
     "output_type": "display_data"
    },
    {
     "data": {
      "application/vnd.jupyter.widget-view+json": {
       "model_id": "684f529c24f24123a25bc063bca37ddf",
       "version_major": 2,
       "version_minor": 0
      },
      "text/plain": [
       "Creating json from Arrow format:   0%|          | 0/3 [00:00<?, ?ba/s]"
      ]
     },
     "metadata": {},
     "output_type": "display_data"
    }
   ],
   "source": [
    "for split in new_M1.keys():\n",
    "    new_M1[split].to_json(os.path.join(\"model\", \"datasets\", f\"dpo_M1_all_pairs_length-sup-200-char_{split}.jsonl\"))"
   ]
  },
  {
   "cell_type": "code",
   "execution_count": 12,
   "metadata": {},
   "outputs": [
    {
     "data": {
      "text/plain": [
       "Dataset({\n",
       "    features: ['chosen', 'rejected', 'prompt'],\n",
       "    num_rows: 1202\n",
       "})"
      ]
     },
     "execution_count": 12,
     "metadata": {},
     "output_type": "execute_result"
    }
   ],
   "source": [
    "m1_dpo[\"train\"]"
   ]
  },
  {
   "cell_type": "code",
   "execution_count": 13,
   "metadata": {},
   "outputs": [],
   "source": [
    "m1_dpo = m1_dpo[\"train\"].train_test_split(0.2, seed=42)"
   ]
  },
  {
   "cell_type": "code",
   "execution_count": 14,
   "metadata": {},
   "outputs": [
    {
     "data": {
      "application/vnd.jupyter.widget-view+json": {
       "model_id": "62d70420b7a8477282b5fcc200c0276e",
       "version_major": 2,
       "version_minor": 0
      },
      "text/plain": [
       "Creating json from Arrow format:   0%|          | 0/1 [00:00<?, ?ba/s]"
      ]
     },
     "metadata": {},
     "output_type": "display_data"
    },
    {
     "data": {
      "application/vnd.jupyter.widget-view+json": {
       "model_id": "246762006bcd4a9297c9220d643a34e5",
       "version_major": 2,
       "version_minor": 0
      },
      "text/plain": [
       "Creating json from Arrow format:   0%|          | 0/1 [00:00<?, ?ba/s]"
      ]
     },
     "metadata": {},
     "output_type": "display_data"
    }
   ],
   "source": [
    "for split in m1_dpo.keys():\n",
    "    m1_dpo[split].to_json(os.path.join(\"project-code-2024\", \"datasets\", f\"dpo_M1_15052024_length_200-700_{split}.jsonl\"))"
   ]
  },
  {
   "cell_type": "markdown",
   "metadata": {},
   "source": [
    "#### OpenAI WebGPT Comparisons"
   ]
  },
  {
   "cell_type": "code",
   "execution_count": 2,
   "metadata": {},
   "outputs": [
    {
     "name": "stderr",
     "output_type": "stream",
     "text": [
      "Downloading data: 100%|██████████| 127M/127M [01:02<00:00, 2.03MB/s] \n"
     ]
    },
    {
     "data": {
      "application/vnd.jupyter.widget-view+json": {
       "model_id": "85e313d72b2e48c89ba933615f2c74d8",
       "version_major": 2,
       "version_minor": 0
      },
      "text/plain": [
       "Generating train split:   0%|          | 0/19578 [00:00<?, ? examples/s]"
      ]
     },
     "metadata": {},
     "output_type": "display_data"
    }
   ],
   "source": [
    "webgpt_dataset = load_dataset(\"openai/webgpt_comparisons\")"
   ]
  },
  {
   "cell_type": "code",
   "execution_count": 3,
   "metadata": {},
   "outputs": [
    {
     "name": "stdout",
     "output_type": "stream",
     "text": [
      "DatasetDict({\n",
      "    train: Dataset({\n",
      "        features: ['question', 'quotes_0', 'answer_0', 'tokens_0', 'score_0', 'quotes_1', 'answer_1', 'tokens_1', 'score_1'],\n",
      "        num_rows: 19578\n",
      "    })\n",
      "})\n"
     ]
    }
   ],
   "source": [
    "print(webgpt_dataset)"
   ]
  },
  {
   "cell_type": "code",
   "execution_count": 5,
   "metadata": {},
   "outputs": [],
   "source": [
    "filter_same_responses = lambda example: example['score_0'] != 0 and example['score_1'] != 0\n",
    "\n",
    "def process_webgpt(example:dict):\n",
    "    example['chosen'] = example['answer_0'] if example['score_0'] > example['score_1'] else example['answer_1']\n",
    "    example['rejected'] = example['answer_1'] if example['score_0'] > example['score_1'] else example['answer_0']\n",
    "    example['prompt'] = example['question']['full_text']\n",
    "    for useless_key in ['question', 'quotes_0', 'answer_0', 'tokens_0', 'score_0', 'quotes_1', 'answer_1', 'tokens_1', 'score_1']:\n",
    "        example.pop(useless_key)\n",
    "    return example"
   ]
  },
  {
   "cell_type": "code",
   "execution_count": 6,
   "metadata": {},
   "outputs": [
    {
     "data": {
      "application/vnd.jupyter.widget-view+json": {
       "model_id": "5709a3537b444fb781f1443293b25740",
       "version_major": 2,
       "version_minor": 0
      },
      "text/plain": [
       "Filter:   0%|          | 0/19578 [00:00<?, ? examples/s]"
      ]
     },
     "metadata": {},
     "output_type": "display_data"
    }
   ],
   "source": [
    "webgpt_dataset[\"train\"] = webgpt_dataset[\"train\"].filter(filter_same_responses)"
   ]
  },
  {
   "cell_type": "code",
   "execution_count": 8,
   "metadata": {},
   "outputs": [
    {
     "data": {
      "application/vnd.jupyter.widget-view+json": {
       "model_id": "4459e4b47ecb44a6b9b4993097b57b99",
       "version_major": 2,
       "version_minor": 0
      },
      "text/plain": [
       "Map:   0%|          | 0/14346 [00:00<?, ? examples/s]"
      ]
     },
     "metadata": {},
     "output_type": "display_data"
    }
   ],
   "source": [
    "webgpt_dataset[\"train\"] = webgpt_dataset[\"train\"].map(process_webgpt)"
   ]
  },
  {
   "cell_type": "code",
   "execution_count": 10,
   "metadata": {},
   "outputs": [
    {
     "data": {
      "application/vnd.jupyter.widget-view+json": {
       "model_id": "c828d34a943f4e0e9b2970b11392e25f",
       "version_major": 2,
       "version_minor": 0
      },
      "text/plain": [
       "Creating json from Arrow format:   0%|          | 0/15 [00:00<?, ?ba/s]"
      ]
     },
     "metadata": {},
     "output_type": "display_data"
    },
    {
     "data": {
      "text/plain": [
       "25091329"
      ]
     },
     "execution_count": 10,
     "metadata": {},
     "output_type": "execute_result"
    }
   ],
   "source": [
    "webgpt_dataset[\"train\"].to_json(os.path.join(\"project-code-2024\", \"datasets\", f\"dpo_webgpt_comparaisons.jsonl\"))"
   ]
  },
  {
   "cell_type": "code",
   "execution_count": 8,
   "metadata": {},
   "outputs": [],
   "source": [
    "orca = load_dataset(\"Intel/orca_dpo_pairs\")"
   ]
  },
  {
   "cell_type": "code",
   "execution_count": 9,
   "metadata": {},
   "outputs": [
    {
     "data": {
      "text/plain": [
       "DatasetDict({\n",
       "    train: Dataset({\n",
       "        features: ['system', 'question', 'chosen', 'rejected'],\n",
       "        num_rows: 12859\n",
       "    })\n",
       "})"
      ]
     },
     "execution_count": 9,
     "metadata": {},
     "output_type": "execute_result"
    }
   ],
   "source": [
    "orca"
   ]
  },
  {
   "cell_type": "code",
   "execution_count": 26,
   "metadata": {},
   "outputs": [
    {
     "data": {
      "application/vnd.jupyter.widget-view+json": {
       "model_id": "042c3084b0a143f1a20de7d138f274b8",
       "version_major": 2,
       "version_minor": 0
      },
      "text/plain": [
       "Map:   0%|          | 0/12859 [00:00<?, ? examples/s]"
      ]
     },
     "metadata": {},
     "output_type": "display_data"
    }
   ],
   "source": [
    "def process_orca_sample(sample:dict)->dict:\n",
    "    sample[\"prompt\"] = sample[\"question\"]\n",
    "    for useless_key in ['question', 'system']:\n",
    "        sample.pop(useless_key)\n",
    "    return sample\n",
    "\n",
    "orca['train'] = orca['train'].map(process_orca_sample)\n"
   ]
  },
  {
   "cell_type": "code",
   "execution_count": 27,
   "metadata": {},
   "outputs": [
    {
     "data": {
      "text/plain": [
       "DatasetDict({\n",
       "    train: Dataset({\n",
       "        features: ['chosen', 'rejected', 'prompt'],\n",
       "        num_rows: 12859\n",
       "    })\n",
       "})"
      ]
     },
     "execution_count": 27,
     "metadata": {},
     "output_type": "execute_result"
    }
   ],
   "source": [
    "orca"
   ]
  },
  {
   "cell_type": "code",
   "execution_count": 28,
   "metadata": {},
   "outputs": [
    {
     "data": {
      "application/vnd.jupyter.widget-view+json": {
       "model_id": "a39cb4932d1c4cb687b725835717a0d1",
       "version_major": 2,
       "version_minor": 0
      },
      "text/plain": [
       "Creating json from Arrow format:   0%|          | 0/13 [00:00<?, ?ba/s]"
      ]
     },
     "metadata": {},
     "output_type": "display_data"
    },
    {
     "data": {
      "text/plain": [
       "34429694"
      ]
     },
     "execution_count": 28,
     "metadata": {},
     "output_type": "execute_result"
    }
   ],
   "source": [
    "orca[\"train\"].to_json(os.path.join(\"project-code-2024\", \"datasets\", f\"dpo_orca_train.jsonl\"))"
   ]
  },
  {
   "cell_type": "code",
   "execution_count": 22,
   "metadata": {},
   "outputs": [
    {
     "data": {
      "application/vnd.jupyter.widget-view+json": {
       "model_id": "b4da868203664adbbdf99906ca45d300",
       "version_major": 2,
       "version_minor": 0
      },
      "text/plain": [
       "Generating train split: 0 examples [00:00, ? examples/s]"
      ]
     },
     "metadata": {},
     "output_type": "display_data"
    },
    {
     "data": {
      "application/vnd.jupyter.widget-view+json": {
       "model_id": "5c037797cb34401aa973f5344e1b3cf1",
       "version_major": 2,
       "version_minor": 0
      },
      "text/plain": [
       "Creating json from Arrow format:   0%|          | 0/13 [00:00<?, ?ba/s]"
      ]
     },
     "metadata": {},
     "output_type": "display_data"
    },
    {
     "data": {
      "application/vnd.jupyter.widget-view+json": {
       "model_id": "f880ee0f4a5e4c42a2f3f765c90a20ec",
       "version_major": 2,
       "version_minor": 0
      },
      "text/plain": [
       "Creating json from Arrow format:   0%|          | 0/2 [00:00<?, ?ba/s]"
      ]
     },
     "metadata": {},
     "output_type": "display_data"
    }
   ],
   "source": [
    "data_path_tosplit = \"dpo_webgpt_comparaisons\"\n",
    "\n",
    "data = load_dataset(\"json\", data_files=f'model/datasets/{data_path_tosplit}.jsonl')\n",
    "data = data[\"train\"].train_test_split(0.1, seed=42)\n",
    "for split in data.keys():\n",
    "    data[split].to_json(os.path.join(\"model\", \"datasets\", f\"{data_path_tosplit}_{split}.jsonl\"))"
   ]
  },
  {
   "cell_type": "code",
   "execution_count": 4,
   "metadata": {},
   "outputs": [
    {
     "data": {
      "application/vnd.jupyter.widget-view+json": {
       "model_id": "749f6237e27b4e9491f5ff60ba337946",
       "version_major": 2,
       "version_minor": 0
      },
      "text/plain": [
       "Generating train split: 0 examples [00:00, ? examples/s]"
      ]
     },
     "metadata": {},
     "output_type": "display_data"
    }
   ],
   "source": [
    "test_data = load_dataset(\"json\", data_files=[\"model/datasets/dpo_M1_all_pairs_length-sup-200-char_test.jsonl\", \"model/datasets/dpo_orca_test.jsonl\", \"model/datasets/dpo_webgpt_comparaisons_test.jsonl\"])"
   ]
  },
  {
   "cell_type": "code",
   "execution_count": 6,
   "metadata": {},
   "outputs": [
    {
     "data": {
      "application/vnd.jupyter.widget-view+json": {
       "model_id": "394e2547dc55414ca70bd014751aeb3c",
       "version_major": 2,
       "version_minor": 0
      },
      "text/plain": [
       "Creating json from Arrow format:   0%|          | 0/6 [00:00<?, ?ba/s]"
      ]
     },
     "metadata": {},
     "output_type": "display_data"
    },
    {
     "data": {
      "text/plain": [
       "12578075"
      ]
     },
     "execution_count": 6,
     "metadata": {},
     "output_type": "execute_result"
    }
   ],
   "source": [
    "test_data['train'].to_json(os.path.join(\"model\", \"datasets\", f\"dpo_test_data_M1-orca-webgpt.jsonl\"))"
   ]
  },
  {
   "cell_type": "code",
   "execution_count": null,
   "metadata": {},
   "outputs": [],
   "source": []
  }
 ],
 "metadata": {
  "kernelspec": {
   "display_name": "mnlp",
   "language": "python",
   "name": "python3"
  },
  "language_info": {
   "codemirror_mode": {
    "name": "ipython",
    "version": 3
   },
   "file_extension": ".py",
   "mimetype": "text/x-python",
   "name": "python",
   "nbconvert_exporter": "python",
   "pygments_lexer": "ipython3",
   "version": "3.10.12"
  }
 },
 "nbformat": 4,
 "nbformat_minor": 2
}
