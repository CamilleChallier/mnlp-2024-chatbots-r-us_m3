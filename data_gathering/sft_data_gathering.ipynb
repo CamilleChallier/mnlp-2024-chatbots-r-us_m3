{
 "cells": [
  {
   "cell_type": "code",
   "execution_count": 12,
   "metadata": {},
   "outputs": [],
   "source": [
    "import datasets\n",
    "from datasets import load_dataset, concatenate_datasets\n",
    "import pandas as pd\n",
    "import random\n",
    "import json\n",
    "import os"
   ]
  },
  {
   "cell_type": "code",
   "execution_count": 3,
   "metadata": {},
   "outputs": [],
   "source": [
    "sciq = load_dataset(\"allenai/sciq\")"
   ]
  },
  {
   "cell_type": "code",
   "execution_count": 4,
   "metadata": {},
   "outputs": [
    {
     "data": {
      "application/vnd.jupyter.widget-view+json": {
       "model_id": "077f782e2dd5486f8a9d324e99dbdf87",
       "version_major": 2,
       "version_minor": 0
      },
      "text/plain": [
       "Map:   0%|          | 0/11679 [00:00<?, ? examples/s]"
      ]
     },
     "metadata": {},
     "output_type": "display_data"
    },
    {
     "data": {
      "application/vnd.jupyter.widget-view+json": {
       "model_id": "c57b4846984942319a93610f6294559b",
       "version_major": 2,
       "version_minor": 0
      },
      "text/plain": [
       "Creating json from Arrow format:   0%|          | 0/12 [00:00<?, ?ba/s]"
      ]
     },
     "metadata": {},
     "output_type": "display_data"
    },
    {
     "data": {
      "application/vnd.jupyter.widget-view+json": {
       "model_id": "beceb4fd2d8d47e69a4f0a0b7e1b0721",
       "version_major": 2,
       "version_minor": 0
      },
      "text/plain": [
       "Map:   0%|          | 0/1000 [00:00<?, ? examples/s]"
      ]
     },
     "metadata": {},
     "output_type": "display_data"
    },
    {
     "data": {
      "application/vnd.jupyter.widget-view+json": {
       "model_id": "40c2aba5546f465d83ab4c39af3c18d6",
       "version_major": 2,
       "version_minor": 0
      },
      "text/plain": [
       "Creating json from Arrow format:   0%|          | 0/1 [00:00<?, ?ba/s]"
      ]
     },
     "metadata": {},
     "output_type": "display_data"
    },
    {
     "data": {
      "application/vnd.jupyter.widget-view+json": {
       "model_id": "c7ddeb79b63f4ae5a412989484682b14",
       "version_major": 2,
       "version_minor": 0
      },
      "text/plain": [
       "Map:   0%|          | 0/1000 [00:00<?, ? examples/s]"
      ]
     },
     "metadata": {},
     "output_type": "display_data"
    },
    {
     "data": {
      "application/vnd.jupyter.widget-view+json": {
       "model_id": "a1756914ea09411fa4c2da595329a94f",
       "version_major": 2,
       "version_minor": 0
      },
      "text/plain": [
       "Creating json from Arrow format:   0%|          | 0/1 [00:00<?, ?ba/s]"
      ]
     },
     "metadata": {},
     "output_type": "display_data"
    }
   ],
   "source": [
    "def sciq_add_choices_to_question(sample:dict):\n",
    "    answer_options = [\"A\", \"B\", \"C\", \"D\"]\n",
    "    question_options = [sample[f\"distractor{i}\"] for i in range(1, 4)] + [sample[\"correct_answer\"]]\n",
    "    random.shuffle(question_options)\n",
    "    answer = answer_options[question_options.index(sample[\"correct_answer\"])]\n",
    "    question_options = [f\"{a}. \" + q for a, q in zip(answer_options, question_options)]\n",
    "    sample[\"question\"] = \"Question: \" + sample[\"question\"] +\"\\n\\nOptions:\\n\" + \"\\n\".join(question_options) +\"\\n\\nAnswer:\"\n",
    "    sample[\"answer\"] = answer\n",
    "    sample[\"subject\"] = None\n",
    "    for useless_key in [f\"distractor{i}\" for i in range(1, 4)] + [\"correct_answer\", \"support\"]:\n",
    "        sample.pop(useless_key)\n",
    "    return sample\n",
    "\n",
    "for split in [\"train\", \"validation\", \"test\"]:\n",
    "    sciq[split] = sciq[split].map(sciq_add_choices_to_question)\n",
    "    sciq[split].to_json(os.path.join(\"project-code-2024\", \"datasets\", f\"mcqa_sciq_{split}.jsonl\"))"
   ]
  },
  {
   "cell_type": "code",
   "execution_count": 5,
   "metadata": {},
   "outputs": [
    {
     "data": {
      "application/vnd.jupyter.widget-view+json": {
       "model_id": "54f653ac17f5499f8da657519f7f9a1b",
       "version_major": 2,
       "version_minor": 0
      },
      "text/plain": [
       "Map:   0%|          | 0/100 [00:00<?, ? examples/s]"
      ]
     },
     "metadata": {},
     "output_type": "display_data"
    },
    {
     "data": {
      "application/vnd.jupyter.widget-view+json": {
       "model_id": "24be4519179b4aecbe5ba97ab9b2489b",
       "version_major": 2,
       "version_minor": 0
      },
      "text/plain": [
       "Map:   0%|          | 0/11 [00:00<?, ? examples/s]"
      ]
     },
     "metadata": {},
     "output_type": "display_data"
    },
    {
     "data": {
      "application/vnd.jupyter.widget-view+json": {
       "model_id": "a00d6fe8b2734b7f95d22d5ded53a211",
       "version_major": 2,
       "version_minor": 0
      },
      "text/plain": [
       "Map:   0%|          | 0/5 [00:00<?, ? examples/s]"
      ]
     },
     "metadata": {},
     "output_type": "display_data"
    },
    {
     "data": {
      "application/vnd.jupyter.widget-view+json": {
       "model_id": "dbe350a05e3f4a5b982ca07d0244bd09",
       "version_major": 2,
       "version_minor": 0
      },
      "text/plain": [
       "Map:   0%|          | 0/100 [00:00<?, ? examples/s]"
      ]
     },
     "metadata": {},
     "output_type": "display_data"
    },
    {
     "data": {
      "application/vnd.jupyter.widget-view+json": {
       "model_id": "5b7c8ded392b45bfa1b5b486c7281bb9",
       "version_major": 2,
       "version_minor": 0
      },
      "text/plain": [
       "Map:   0%|          | 0/11 [00:00<?, ? examples/s]"
      ]
     },
     "metadata": {},
     "output_type": "display_data"
    },
    {
     "data": {
      "application/vnd.jupyter.widget-view+json": {
       "model_id": "7afa0d64dbd64ba494b625b8f37dffd0",
       "version_major": 2,
       "version_minor": 0
      },
      "text/plain": [
       "Map:   0%|          | 0/5 [00:00<?, ? examples/s]"
      ]
     },
     "metadata": {},
     "output_type": "display_data"
    },
    {
     "data": {
      "application/vnd.jupyter.widget-view+json": {
       "model_id": "913bd7d7abbf4ff7a9011237b63ca6c1",
       "version_major": 2,
       "version_minor": 0
      },
      "text/plain": [
       "Map:   0%|          | 0/100 [00:00<?, ? examples/s]"
      ]
     },
     "metadata": {},
     "output_type": "display_data"
    },
    {
     "data": {
      "application/vnd.jupyter.widget-view+json": {
       "model_id": "b9667585f9304f95bf17f8a060f08c68",
       "version_major": 2,
       "version_minor": 0
      },
      "text/plain": [
       "Map:   0%|          | 0/11 [00:00<?, ? examples/s]"
      ]
     },
     "metadata": {},
     "output_type": "display_data"
    },
    {
     "data": {
      "application/vnd.jupyter.widget-view+json": {
       "model_id": "3c20c345eb414afbb3c001ae6bd85ffd",
       "version_major": 2,
       "version_minor": 0
      },
      "text/plain": [
       "Map:   0%|          | 0/5 [00:00<?, ? examples/s]"
      ]
     },
     "metadata": {},
     "output_type": "display_data"
    },
    {
     "data": {
      "application/vnd.jupyter.widget-view+json": {
       "model_id": "2da97ea1380d4c2bbf83650967f99407",
       "version_major": 2,
       "version_minor": 0
      },
      "text/plain": [
       "Map:   0%|          | 0/102 [00:00<?, ? examples/s]"
      ]
     },
     "metadata": {},
     "output_type": "display_data"
    },
    {
     "data": {
      "application/vnd.jupyter.widget-view+json": {
       "model_id": "49a660a92f2e44c893ae535ac0b1e456",
       "version_major": 2,
       "version_minor": 0
      },
      "text/plain": [
       "Map:   0%|          | 0/11 [00:00<?, ? examples/s]"
      ]
     },
     "metadata": {},
     "output_type": "display_data"
    },
    {
     "data": {
      "application/vnd.jupyter.widget-view+json": {
       "model_id": "c902e3a3fe684f4e8f389ff4e912f497",
       "version_major": 2,
       "version_minor": 0
      },
      "text/plain": [
       "Map:   0%|          | 0/5 [00:00<?, ? examples/s]"
      ]
     },
     "metadata": {},
     "output_type": "display_data"
    },
    {
     "data": {
      "application/vnd.jupyter.widget-view+json": {
       "model_id": "10c635d58e6e4174b0291a973e3b9503",
       "version_major": 2,
       "version_minor": 0
      },
      "text/plain": [
       "Map:   0%|          | 0/100 [00:00<?, ? examples/s]"
      ]
     },
     "metadata": {},
     "output_type": "display_data"
    },
    {
     "data": {
      "application/vnd.jupyter.widget-view+json": {
       "model_id": "27a6bbd3d29440c192a59574896143fe",
       "version_major": 2,
       "version_minor": 0
      },
      "text/plain": [
       "Map:   0%|          | 0/11 [00:00<?, ? examples/s]"
      ]
     },
     "metadata": {},
     "output_type": "display_data"
    },
    {
     "data": {
      "application/vnd.jupyter.widget-view+json": {
       "model_id": "4d7d9ea143294b3795f185f3c06689d0",
       "version_major": 2,
       "version_minor": 0
      },
      "text/plain": [
       "Map:   0%|          | 0/5 [00:00<?, ? examples/s]"
      ]
     },
     "metadata": {},
     "output_type": "display_data"
    },
    {
     "data": {
      "application/vnd.jupyter.widget-view+json": {
       "model_id": "e4f49dba41fb4537be7f9f24e3bb90bf",
       "version_major": 2,
       "version_minor": 0
      },
      "text/plain": [
       "Map:   0%|          | 0/235 [00:00<?, ? examples/s]"
      ]
     },
     "metadata": {},
     "output_type": "display_data"
    },
    {
     "data": {
      "application/vnd.jupyter.widget-view+json": {
       "model_id": "58454a38d2c9436e83c6b718eaf0abbf",
       "version_major": 2,
       "version_minor": 0
      },
      "text/plain": [
       "Map:   0%|          | 0/26 [00:00<?, ? examples/s]"
      ]
     },
     "metadata": {},
     "output_type": "display_data"
    },
    {
     "data": {
      "application/vnd.jupyter.widget-view+json": {
       "model_id": "dff3714c961449e09d6494c17f1e9212",
       "version_major": 2,
       "version_minor": 0
      },
      "text/plain": [
       "Map:   0%|          | 0/5 [00:00<?, ? examples/s]"
      ]
     },
     "metadata": {},
     "output_type": "display_data"
    },
    {
     "data": {
      "application/vnd.jupyter.widget-view+json": {
       "model_id": "db8264df6a8847b1b933c565665432f4",
       "version_major": 2,
       "version_minor": 0
      },
      "text/plain": [
       "Map:   0%|          | 0/145 [00:00<?, ? examples/s]"
      ]
     },
     "metadata": {},
     "output_type": "display_data"
    },
    {
     "data": {
      "application/vnd.jupyter.widget-view+json": {
       "model_id": "9cfd231077084b7987c6f61c0a91646a",
       "version_major": 2,
       "version_minor": 0
      },
      "text/plain": [
       "Map:   0%|          | 0/16 [00:00<?, ? examples/s]"
      ]
     },
     "metadata": {},
     "output_type": "display_data"
    },
    {
     "data": {
      "application/vnd.jupyter.widget-view+json": {
       "model_id": "e1b361bd067145fbbf1ec6cbbe7c5539",
       "version_major": 2,
       "version_minor": 0
      },
      "text/plain": [
       "Map:   0%|          | 0/5 [00:00<?, ? examples/s]"
      ]
     },
     "metadata": {},
     "output_type": "display_data"
    },
    {
     "data": {
      "application/vnd.jupyter.widget-view+json": {
       "model_id": "c7b8444cdc9246fb8ff17a86a8009036",
       "version_major": 2,
       "version_minor": 0
      },
      "text/plain": [
       "Map:   0%|          | 0/378 [00:00<?, ? examples/s]"
      ]
     },
     "metadata": {},
     "output_type": "display_data"
    },
    {
     "data": {
      "application/vnd.jupyter.widget-view+json": {
       "model_id": "535021750bc04fe0bd0f3e1d6f7bc815",
       "version_major": 2,
       "version_minor": 0
      },
      "text/plain": [
       "Map:   0%|          | 0/41 [00:00<?, ? examples/s]"
      ]
     },
     "metadata": {},
     "output_type": "display_data"
    },
    {
     "data": {
      "application/vnd.jupyter.widget-view+json": {
       "model_id": "30ee10a7cbd94aea8c1f5a4008276038",
       "version_major": 2,
       "version_minor": 0
      },
      "text/plain": [
       "Map:   0%|          | 0/5 [00:00<?, ? examples/s]"
      ]
     },
     "metadata": {},
     "output_type": "display_data"
    },
    {
     "data": {
      "application/vnd.jupyter.widget-view+json": {
       "model_id": "8b55c69f6b9e47d0bbe7c527625fd286",
       "version_major": 2,
       "version_minor": 0
      },
      "text/plain": [
       "Map:   0%|          | 0/100 [00:00<?, ? examples/s]"
      ]
     },
     "metadata": {},
     "output_type": "display_data"
    },
    {
     "data": {
      "application/vnd.jupyter.widget-view+json": {
       "model_id": "e4185ce9cfa14328ac96adc4d0d294d8",
       "version_major": 2,
       "version_minor": 0
      },
      "text/plain": [
       "Map:   0%|          | 0/9 [00:00<?, ? examples/s]"
      ]
     },
     "metadata": {},
     "output_type": "display_data"
    },
    {
     "data": {
      "application/vnd.jupyter.widget-view+json": {
       "model_id": "d3664636b9754ce483d7e71d67291af3",
       "version_major": 2,
       "version_minor": 0
      },
      "text/plain": [
       "Map:   0%|          | 0/5 [00:00<?, ? examples/s]"
      ]
     },
     "metadata": {},
     "output_type": "display_data"
    },
    {
     "data": {
      "application/vnd.jupyter.widget-view+json": {
       "model_id": "60e81ffa63b84db9b8ad6796f14d51d1",
       "version_major": 2,
       "version_minor": 0
      },
      "text/plain": [
       "Map:   0%|          | 0/270 [00:00<?, ? examples/s]"
      ]
     },
     "metadata": {},
     "output_type": "display_data"
    },
    {
     "data": {
      "application/vnd.jupyter.widget-view+json": {
       "model_id": "13dfba966c814cc2839f9dd59addd136",
       "version_major": 2,
       "version_minor": 0
      },
      "text/plain": [
       "Map:   0%|          | 0/29 [00:00<?, ? examples/s]"
      ]
     },
     "metadata": {},
     "output_type": "display_data"
    },
    {
     "data": {
      "application/vnd.jupyter.widget-view+json": {
       "model_id": "8cd3d14f2c8247e9bd347657860b5f8a",
       "version_major": 2,
       "version_minor": 0
      },
      "text/plain": [
       "Map:   0%|          | 0/5 [00:00<?, ? examples/s]"
      ]
     },
     "metadata": {},
     "output_type": "display_data"
    },
    {
     "data": {
      "application/vnd.jupyter.widget-view+json": {
       "model_id": "1f2c2a8e8cb241daa8ad43a78024e5f7",
       "version_major": 2,
       "version_minor": 0
      },
      "text/plain": [
       "Map:   0%|          | 0/151 [00:00<?, ? examples/s]"
      ]
     },
     "metadata": {},
     "output_type": "display_data"
    },
    {
     "data": {
      "application/vnd.jupyter.widget-view+json": {
       "model_id": "8107288d60bf489081d3eeca4bedda12",
       "version_major": 2,
       "version_minor": 0
      },
      "text/plain": [
       "Map:   0%|          | 0/17 [00:00<?, ? examples/s]"
      ]
     },
     "metadata": {},
     "output_type": "display_data"
    },
    {
     "data": {
      "application/vnd.jupyter.widget-view+json": {
       "model_id": "68a6e8fb71634f2687fdc03188d18f1b",
       "version_major": 2,
       "version_minor": 0
      },
      "text/plain": [
       "Map:   0%|          | 0/5 [00:00<?, ? examples/s]"
      ]
     },
     "metadata": {},
     "output_type": "display_data"
    },
    {
     "data": {
      "application/vnd.jupyter.widget-view+json": {
       "model_id": "3573325840a54b889ef55826d38ef69e",
       "version_major": 2,
       "version_minor": 0
      },
      "text/plain": [
       "Map:   0%|          | 0/216 [00:00<?, ? examples/s]"
      ]
     },
     "metadata": {},
     "output_type": "display_data"
    },
    {
     "data": {
      "application/vnd.jupyter.widget-view+json": {
       "model_id": "508d068c63104adfbf03291898e37bcb",
       "version_major": 2,
       "version_minor": 0
      },
      "text/plain": [
       "Map:   0%|          | 0/23 [00:00<?, ? examples/s]"
      ]
     },
     "metadata": {},
     "output_type": "display_data"
    },
    {
     "data": {
      "application/vnd.jupyter.widget-view+json": {
       "model_id": "88bf0f8febfa497ab4c5b597caa39ef4",
       "version_major": 2,
       "version_minor": 0
      },
      "text/plain": [
       "Map:   0%|          | 0/5 [00:00<?, ? examples/s]"
      ]
     },
     "metadata": {},
     "output_type": "display_data"
    },
    {
     "data": {
      "application/vnd.jupyter.widget-view+json": {
       "model_id": "4e83b256a28b477a87116b3f62cc0013",
       "version_major": 2,
       "version_minor": 0
      },
      "text/plain": [
       "Map:   0%|          | 0/112 [00:00<?, ? examples/s]"
      ]
     },
     "metadata": {},
     "output_type": "display_data"
    },
    {
     "data": {
      "application/vnd.jupyter.widget-view+json": {
       "model_id": "ff20ec8fbe9a4ba1b9c0245d24e0f819",
       "version_major": 2,
       "version_minor": 0
      },
      "text/plain": [
       "Map:   0%|          | 0/11 [00:00<?, ? examples/s]"
      ]
     },
     "metadata": {},
     "output_type": "display_data"
    },
    {
     "data": {
      "application/vnd.jupyter.widget-view+json": {
       "model_id": "eed2bd9160864520805d1ea0eea90a7e",
       "version_major": 2,
       "version_minor": 0
      },
      "text/plain": [
       "Map:   0%|          | 0/5 [00:00<?, ? examples/s]"
      ]
     },
     "metadata": {},
     "output_type": "display_data"
    },
    {
     "data": {
      "application/vnd.jupyter.widget-view+json": {
       "model_id": "24014bd4f696495c98f4c0ab8f4abdec",
       "version_major": 2,
       "version_minor": 0
      },
      "text/plain": [
       "Creating json from Arrow format:   0%|          | 0/3 [00:00<?, ?ba/s]"
      ]
     },
     "metadata": {},
     "output_type": "display_data"
    },
    {
     "data": {
      "application/vnd.jupyter.widget-view+json": {
       "model_id": "21b1fc62172d4685bb1d867003926e44",
       "version_major": 2,
       "version_minor": 0
      },
      "text/plain": [
       "Creating json from Arrow format:   0%|          | 0/1 [00:00<?, ?ba/s]"
      ]
     },
     "metadata": {},
     "output_type": "display_data"
    },
    {
     "data": {
      "application/vnd.jupyter.widget-view+json": {
       "model_id": "41f613fbfe204a90bb7406b15deb45c3",
       "version_major": 2,
       "version_minor": 0
      },
      "text/plain": [
       "Creating json from Arrow format:   0%|          | 0/1 [00:00<?, ?ba/s]"
      ]
     },
     "metadata": {},
     "output_type": "display_data"
    }
   ],
   "source": [
    "def mmlu_add_choices_to_question(sample:dict)->dict:\n",
    "    answer_options = [\"A\", \"B\", \"C\", \"D\"]\n",
    "    question_options = [f\"{a}. \" + q for a, q in zip(answer_options, sample[\"choices\"])]\n",
    "    sample[\"question\"] = \"Question: \" + sample[\"question\"] +\"\\n\\nOptions:\\n\" + \"\\n\".join(question_options) +\"\\n\\nAnswer:\"\n",
    "    sample['answer'] = answer_options[sample['answer']]\n",
    "    for useless_key in [\"choices\"]:\n",
    "        sample.pop(useless_key)\n",
    "    return sample\n",
    "\n",
    "relevant_subjects = ['abstract_algebra', 'college_computer_science', 'college_mathematics', 'college_physics', 'computer_security', 'conceptual_physics', 'electrical_engineering', 'elementary_mathematics', 'high_school_computer_science', 'high_school_mathematics', 'high_school_physics', 'high_school_statistics', 'machine_learning']\n",
    "all_subjects_data = {\n",
    "    \"test\":[],\n",
    "    \"validation\":[],\n",
    "    \"dev\":[]\n",
    "}\n",
    "for subject in relevant_subjects:\n",
    "    mmlu_subject = load_dataset(\"cais/mmlu\", subject)\n",
    "    for split in [\"test\", \"validation\", \"dev\"]:\n",
    "        # print(f\"{mmlu_subject[split]['answer'][0]=}\")\n",
    "        # mmlu_subject[split] = mmlu_subject[split].map(mmlu_add_choices_to_question)\n",
    "        # print(f\"{mmlu_subject[split]['answer'][0]=}\")\n",
    "        all_subjects_data[split].append(mmlu_subject[split].map(mmlu_add_choices_to_question))\n",
    "\n",
    "for split in [\"test\", \"validation\", \"dev\"]:\n",
    "    concatenate_datasets(all_subjects_data[split]).to_json(os.path.join(\"project-code-2024\", \"datasets\", f\"mcqa_mmlu_{split}.jsonl\"))"
   ]
  },
  {
   "cell_type": "code",
   "execution_count": 10,
   "metadata": {},
   "outputs": [],
   "source": [
    "ai2_arc = load_dataset('allenai/ai2_arc', 'ARC-Challenge')"
   ]
  },
  {
   "cell_type": "code",
   "execution_count": 17,
   "metadata": {},
   "outputs": [
    {
     "data": {
      "application/vnd.jupyter.widget-view+json": {
       "model_id": "3f29b09983e342bba972fd299661759b",
       "version_major": 2,
       "version_minor": 0
      },
      "text/plain": [
       "Map:   0%|          | 0/1119 [00:00<?, ? examples/s]"
      ]
     },
     "metadata": {},
     "output_type": "display_data"
    },
    {
     "data": {
      "application/vnd.jupyter.widget-view+json": {
       "model_id": "e8b570e3aa2d4f82aa03ec29b3e859ab",
       "version_major": 2,
       "version_minor": 0
      },
      "text/plain": [
       "Creating json from Arrow format:   0%|          | 0/2 [00:00<?, ?ba/s]"
      ]
     },
     "metadata": {},
     "output_type": "display_data"
    },
    {
     "data": {
      "application/vnd.jupyter.widget-view+json": {
       "model_id": "884c8371e3de42baa57ba2d70b3683c6",
       "version_major": 2,
       "version_minor": 0
      },
      "text/plain": [
       "Map:   0%|          | 0/299 [00:00<?, ? examples/s]"
      ]
     },
     "metadata": {},
     "output_type": "display_data"
    },
    {
     "data": {
      "application/vnd.jupyter.widget-view+json": {
       "model_id": "376d559586c342ba83701e413bfa5d08",
       "version_major": 2,
       "version_minor": 0
      },
      "text/plain": [
       "Creating json from Arrow format:   0%|          | 0/1 [00:00<?, ?ba/s]"
      ]
     },
     "metadata": {},
     "output_type": "display_data"
    },
    {
     "data": {
      "application/vnd.jupyter.widget-view+json": {
       "model_id": "da1521f362aa4cc69b99fad26cf4d3d5",
       "version_major": 2,
       "version_minor": 0
      },
      "text/plain": [
       "Map:   0%|          | 0/1172 [00:00<?, ? examples/s]"
      ]
     },
     "metadata": {},
     "output_type": "display_data"
    },
    {
     "data": {
      "application/vnd.jupyter.widget-view+json": {
       "model_id": "86527e2fa936477b99ec4096301789f6",
       "version_major": 2,
       "version_minor": 0
      },
      "text/plain": [
       "Creating json from Arrow format:   0%|          | 0/2 [00:00<?, ?ba/s]"
      ]
     },
     "metadata": {},
     "output_type": "display_data"
    }
   ],
   "source": [
    "def sciq_add_choices_to_question(sample:dict):\n",
    "    question_options = [f\"{a}. \" + q for a, q in zip(sample['choices']['label'], sample['choices']['text'])]\n",
    "    sample[\"question\"] = \"Question: \" + sample[\"question\"] +\"\\n\\nOptions:\\n\" + \"\\n\".join(question_options) +\"\\n\\nAnswer:\"\n",
    "    sample[\"answer\"] = sample[\"answerKey\"]\n",
    "    sample[\"subject\"] = None\n",
    "    for useless_key in [\"answerKey\", \"choices\", \"id\"]:\n",
    "        sample.pop(useless_key)\n",
    "    return sample\n",
    "\n",
    "for split in [\"train\", \"validation\", \"test\"]:\n",
    "    ai2_arc[split] = ai2_arc[split].map(sciq_add_choices_to_question)\n",
    "    ai2_arc[split].to_json(os.path.join(\"project-code-2024\", \"datasets\", f\"mcqa_ai2_arc_{split}.jsonl\"))"
   ]
  },
  {
   "cell_type": "code",
   "execution_count": 21,
   "metadata": {},
   "outputs": [],
   "source": [
    "# !git clone git@github.com:idrori/stemQ.git"
   ]
  },
  {
   "cell_type": "code",
   "execution_count": 12,
   "metadata": {},
   "outputs": [
    {
     "name": "stdout",
     "output_type": "stream",
     "text": [
      "/Users/wesleymonteith/code/project-m2-2024-chatbots-r-us/stemQ/data/8.04/8.04_Question_08.json\n",
      "/Users/wesleymonteith/code/project-m2-2024-chatbots-r-us/stemQ/data/8.04/8.04_Question_04.json\n",
      "/Users/wesleymonteith/code/project-m2-2024-chatbots-r-us/stemQ/data/8.04/8.04_Question_12.json\n",
      "/Users/wesleymonteith/code/project-m2-2024-chatbots-r-us/stemQ/data/8.04/8.04_Question_13.json\n",
      "/Users/wesleymonteith/code/project-m2-2024-chatbots-r-us/stemQ/data/8.04/8.04_Question_05.json\n",
      "/Users/wesleymonteith/code/project-m2-2024-chatbots-r-us/stemQ/data/8.04/8.04_Question_09.json\n",
      "/Users/wesleymonteith/code/project-m2-2024-chatbots-r-us/stemQ/data/8.04/8.04_Question_02.json\n",
      "/Users/wesleymonteith/code/project-m2-2024-chatbots-r-us/stemQ/data/8.04/8.04_Question_14.json\n",
      "/Users/wesleymonteith/code/project-m2-2024-chatbots-r-us/stemQ/data/8.04/8.04_Question_18.json\n",
      "/Users/wesleymonteith/code/project-m2-2024-chatbots-r-us/stemQ/data/8.04/8.04_Question_22.json\n",
      "/Users/wesleymonteith/code/project-m2-2024-chatbots-r-us/stemQ/data/8.04/8.04_Question_23.json\n",
      "/Users/wesleymonteith/code/project-m2-2024-chatbots-r-us/stemQ/data/8.04/8.04_Question_19.json\n",
      "/Users/wesleymonteith/code/project-m2-2024-chatbots-r-us/stemQ/data/8.04/8.04_Question_15.json\n",
      "/Users/wesleymonteith/code/project-m2-2024-chatbots-r-us/stemQ/data/8.04/8.04_Question_03.json\n",
      "/Users/wesleymonteith/code/project-m2-2024-chatbots-r-us/stemQ/data/8.04/8.04_Question_16.json\n",
      "/Users/wesleymonteith/code/project-m2-2024-chatbots-r-us/stemQ/data/8.04/8.04_Question_20.json\n",
      "/Users/wesleymonteith/code/project-m2-2024-chatbots-r-us/stemQ/data/8.04/8.04_Question_21.json\n",
      "/Users/wesleymonteith/code/project-m2-2024-chatbots-r-us/stemQ/data/8.04/8.04_Question_01.json\n",
      "/Users/wesleymonteith/code/project-m2-2024-chatbots-r-us/stemQ/data/8.04/8.04_Question_17.json\n",
      "/Users/wesleymonteith/code/project-m2-2024-chatbots-r-us/stemQ/data/8.04/8.04_Question_10.json\n",
      "/Users/wesleymonteith/code/project-m2-2024-chatbots-r-us/stemQ/data/8.04/8.04_Question_06.json\n",
      "/Users/wesleymonteith/code/project-m2-2024-chatbots-r-us/stemQ/data/8.04/8.04_Question_07.json\n",
      "/Users/wesleymonteith/code/project-m2-2024-chatbots-r-us/stemQ/data/8.04/8.04_Question_11.json\n",
      "/Users/wesleymonteith/code/project-m2-2024-chatbots-r-us/stemQ/data/Harvard STAT 110/Harvard STAT 110_Question_01.json\n",
      "/Users/wesleymonteith/code/project-m2-2024-chatbots-r-us/stemQ/data/Harvard STAT 110/Harvard STAT 110_Question_17.json\n",
      "/Users/wesleymonteith/code/project-m2-2024-chatbots-r-us/stemQ/data/Harvard STAT 110/Harvard STAT 110_Question_20.json\n",
      "/Users/wesleymonteith/code/project-m2-2024-chatbots-r-us/stemQ/data/Harvard STAT 110/Harvard STAT 110_Question_16.json\n",
      "/Users/wesleymonteith/code/project-m2-2024-chatbots-r-us/stemQ/data/Harvard STAT 110/Harvard STAT 110_Question_07.json\n",
      "/Users/wesleymonteith/code/project-m2-2024-chatbots-r-us/stemQ/data/Harvard STAT 110/Harvard STAT 110_Question_11.json\n",
      "/Users/wesleymonteith/code/project-m2-2024-chatbots-r-us/stemQ/data/Harvard STAT 110/Harvard STAT 110_Question_10.json\n",
      "/Users/wesleymonteith/code/project-m2-2024-chatbots-r-us/stemQ/data/Harvard STAT 110/Harvard STAT 110_Question_06.json\n",
      "/Users/wesleymonteith/code/project-m2-2024-chatbots-r-us/stemQ/data/Harvard STAT 110/Harvard STAT 110_Question_09.json\n",
      "/Users/wesleymonteith/code/project-m2-2024-chatbots-r-us/stemQ/data/Harvard STAT 110/Harvard STAT 110_Question_13.json\n",
      "/Users/wesleymonteith/code/project-m2-2024-chatbots-r-us/stemQ/data/Harvard STAT 110/Harvard STAT 110_Question_05.json\n",
      "/Users/wesleymonteith/code/project-m2-2024-chatbots-r-us/stemQ/data/Harvard STAT 110/Harvard STAT 110_Question_04.json\n",
      "/Users/wesleymonteith/code/project-m2-2024-chatbots-r-us/stemQ/data/Harvard STAT 110/Harvard STAT 110_Question_12.json\n",
      "/Users/wesleymonteith/code/project-m2-2024-chatbots-r-us/stemQ/data/Harvard STAT 110/Harvard STAT 110_Question_08.json\n",
      "/Users/wesleymonteith/code/project-m2-2024-chatbots-r-us/stemQ/data/Harvard STAT 110/Harvard STAT 110_Question_15.json\n",
      "/Users/wesleymonteith/code/project-m2-2024-chatbots-r-us/stemQ/data/Harvard STAT 110/Harvard STAT 110_Question_03.json\n",
      "/Users/wesleymonteith/code/project-m2-2024-chatbots-r-us/stemQ/data/Harvard STAT 110/Harvard STAT 110_Question_19.json\n",
      "/Users/wesleymonteith/code/project-m2-2024-chatbots-r-us/stemQ/data/Harvard STAT 110/Harvard STAT 110_Question_18.json\n",
      "/Users/wesleymonteith/code/project-m2-2024-chatbots-r-us/stemQ/data/Harvard STAT 110/Harvard STAT 110_Question_02.json\n",
      "/Users/wesleymonteith/code/project-m2-2024-chatbots-r-us/stemQ/data/Harvard STAT 110/Harvard STAT 110_Question_14.json\n",
      "/Users/wesleymonteith/code/project-m2-2024-chatbots-r-us/stemQ/data/Brown MATH 0180/Brown MATH 0180_Question_06.json\n",
      "/Users/wesleymonteith/code/project-m2-2024-chatbots-r-us/stemQ/data/Brown MATH 0180/Brown MATH 0180_Question_10.json\n",
      "/Users/wesleymonteith/code/project-m2-2024-chatbots-r-us/stemQ/data/Brown MATH 0180/Brown MATH 0180_Question_11.json\n",
      "/Users/wesleymonteith/code/project-m2-2024-chatbots-r-us/stemQ/data/Brown MATH 0180/Brown MATH 0180_Question_07.json\n",
      "/Users/wesleymonteith/code/project-m2-2024-chatbots-r-us/stemQ/data/Brown MATH 0180/Brown MATH 0180_Question_20.json\n",
      "/Users/wesleymonteith/code/project-m2-2024-chatbots-r-us/stemQ/data/Brown MATH 0180/Brown MATH 0180_Question_16.json\n",
      "/Users/wesleymonteith/code/project-m2-2024-chatbots-r-us/stemQ/data/Brown MATH 0180/Brown MATH 0180_Question_17.json\n",
      "/Users/wesleymonteith/code/project-m2-2024-chatbots-r-us/stemQ/data/Brown MATH 0180/Brown MATH 0180_Question_01.json\n",
      "/Users/wesleymonteith/code/project-m2-2024-chatbots-r-us/stemQ/data/Brown MATH 0180/Brown MATH 0180_Question_21.json\n",
      "/Users/wesleymonteith/code/project-m2-2024-chatbots-r-us/stemQ/data/Brown MATH 0180/Brown MATH 0180_Question_22.json\n",
      "/Users/wesleymonteith/code/project-m2-2024-chatbots-r-us/stemQ/data/Brown MATH 0180/Brown MATH 0180_Question_18.json\n",
      "/Users/wesleymonteith/code/project-m2-2024-chatbots-r-us/stemQ/data/Brown MATH 0180/Brown MATH 0180_Question_14.json\n",
      "/Users/wesleymonteith/code/project-m2-2024-chatbots-r-us/stemQ/data/Brown MATH 0180/Brown MATH 0180_Question_02.json\n",
      "/Users/wesleymonteith/code/project-m2-2024-chatbots-r-us/stemQ/data/Brown MATH 0180/Brown MATH 0180_Question_03.json\n",
      "/Users/wesleymonteith/code/project-m2-2024-chatbots-r-us/stemQ/data/Brown MATH 0180/Brown MATH 0180_Question_15.json\n",
      "/Users/wesleymonteith/code/project-m2-2024-chatbots-r-us/stemQ/data/Brown MATH 0180/Brown MATH 0180_Question_19.json\n",
      "/Users/wesleymonteith/code/project-m2-2024-chatbots-r-us/stemQ/data/Brown MATH 0180/Brown MATH 0180_Question_23.json\n",
      "/Users/wesleymonteith/code/project-m2-2024-chatbots-r-us/stemQ/data/Brown MATH 0180/Brown MATH 0180_Question_12.json\n",
      "/Users/wesleymonteith/code/project-m2-2024-chatbots-r-us/stemQ/data/Brown MATH 0180/Brown MATH 0180_Question_04.json\n",
      "/Users/wesleymonteith/code/project-m2-2024-chatbots-r-us/stemQ/data/Brown MATH 0180/Brown MATH 0180_Question_24.json\n",
      "/Users/wesleymonteith/code/project-m2-2024-chatbots-r-us/stemQ/data/Brown MATH 0180/Brown MATH 0180_Question_08.json\n",
      "/Users/wesleymonteith/code/project-m2-2024-chatbots-r-us/stemQ/data/Brown MATH 0180/Brown MATH 0180_Question_09.json\n",
      "/Users/wesleymonteith/code/project-m2-2024-chatbots-r-us/stemQ/data/Brown MATH 0180/Brown MATH 0180_Question_25.json\n",
      "/Users/wesleymonteith/code/project-m2-2024-chatbots-r-us/stemQ/data/Brown MATH 0180/Brown MATH 0180_Question_05.json\n",
      "/Users/wesleymonteith/code/project-m2-2024-chatbots-r-us/stemQ/data/Brown MATH 0180/Brown MATH 0180_Question_13.json\n",
      "/Users/wesleymonteith/code/project-m2-2024-chatbots-r-us/stemQ/data/18.600/18.600_Question_13.json\n",
      "/Users/wesleymonteith/code/project-m2-2024-chatbots-r-us/stemQ/data/18.600/18.600_Question_05.json\n",
      "/Users/wesleymonteith/code/project-m2-2024-chatbots-r-us/stemQ/data/18.600/18.600_Question_29.json\n",
      "/Users/wesleymonteith/code/project-m2-2024-chatbots-r-us/stemQ/data/18.600/18.600_Question_09.json\n",
      "/Users/wesleymonteith/code/project-m2-2024-chatbots-r-us/stemQ/data/18.600/18.600_Question_25.json\n",
      "/Users/wesleymonteith/code/project-m2-2024-chatbots-r-us/stemQ/data/18.600/18.600_Question_24.json\n",
      "/Users/wesleymonteith/code/project-m2-2024-chatbots-r-us/stemQ/data/18.600/18.600_Question_08.json\n",
      "/Users/wesleymonteith/code/project-m2-2024-chatbots-r-us/stemQ/data/18.600/18.600_Question_28.json\n",
      "/Users/wesleymonteith/code/project-m2-2024-chatbots-r-us/stemQ/data/18.600/18.600_Question_04.json\n",
      "/Users/wesleymonteith/code/project-m2-2024-chatbots-r-us/stemQ/data/18.600/18.600_Question_12.json\n",
      "/Users/wesleymonteith/code/project-m2-2024-chatbots-r-us/stemQ/data/18.600/18.600_Question_19.json\n",
      "/Users/wesleymonteith/code/project-m2-2024-chatbots-r-us/stemQ/data/18.600/18.600_Question_23.json\n",
      "/Users/wesleymonteith/code/project-m2-2024-chatbots-r-us/stemQ/data/18.600/18.600_Question_15.json\n",
      "/Users/wesleymonteith/code/project-m2-2024-chatbots-r-us/stemQ/data/18.600/18.600_Question_03.json\n",
      "/Users/wesleymonteith/code/project-m2-2024-chatbots-r-us/stemQ/data/18.600/18.600_Question_02.json\n",
      "/Users/wesleymonteith/code/project-m2-2024-chatbots-r-us/stemQ/data/18.600/18.600_Question_14.json\n",
      "/Users/wesleymonteith/code/project-m2-2024-chatbots-r-us/stemQ/data/18.600/18.600_Question_22.json\n",
      "/Users/wesleymonteith/code/project-m2-2024-chatbots-r-us/stemQ/data/18.600/18.600_Question_18.json\n",
      "/Users/wesleymonteith/code/project-m2-2024-chatbots-r-us/stemQ/data/18.600/18.600_Question_21.json\n",
      "/Users/wesleymonteith/code/project-m2-2024-chatbots-r-us/stemQ/data/18.600/18.600_Question_01.json\n",
      "/Users/wesleymonteith/code/project-m2-2024-chatbots-r-us/stemQ/data/18.600/18.600_Question_17.json\n",
      "/Users/wesleymonteith/code/project-m2-2024-chatbots-r-us/stemQ/data/18.600/18.600_Question_16.json\n",
      "/Users/wesleymonteith/code/project-m2-2024-chatbots-r-us/stemQ/data/18.600/18.600_Question_20.json\n",
      "/Users/wesleymonteith/code/project-m2-2024-chatbots-r-us/stemQ/data/18.600/18.600_Question_07.json\n",
      "/Users/wesleymonteith/code/project-m2-2024-chatbots-r-us/stemQ/data/18.600/18.600_Question_11.json\n",
      "/Users/wesleymonteith/code/project-m2-2024-chatbots-r-us/stemQ/data/18.600/18.600_Question_27.json\n",
      "/Users/wesleymonteith/code/project-m2-2024-chatbots-r-us/stemQ/data/18.600/18.600_Question_26.json\n",
      "/Users/wesleymonteith/code/project-m2-2024-chatbots-r-us/stemQ/data/18.600/18.600_Question_30.json\n",
      "/Users/wesleymonteith/code/project-m2-2024-chatbots-r-us/stemQ/data/18.600/18.600_Question_10.json\n",
      "/Users/wesleymonteith/code/project-m2-2024-chatbots-r-us/stemQ/data/18.600/18.600_Question_06.json\n",
      "/Users/wesleymonteith/code/project-m2-2024-chatbots-r-us/stemQ/data/20.106J/20.106J_Question_09.json\n",
      "/Users/wesleymonteith/code/project-m2-2024-chatbots-r-us/stemQ/data/20.106J/20.106J_Question_25.json\n",
      "/Users/wesleymonteith/code/project-m2-2024-chatbots-r-us/stemQ/data/20.106J/20.106J_Question_13.json\n",
      "/Users/wesleymonteith/code/project-m2-2024-chatbots-r-us/stemQ/data/20.106J/20.106J_Question_05.json\n",
      "/Users/wesleymonteith/code/project-m2-2024-chatbots-r-us/stemQ/data/20.106J/20.106J_Question_04.json\n",
      "/Users/wesleymonteith/code/project-m2-2024-chatbots-r-us/stemQ/data/20.106J/20.106J_Question_12.json\n",
      "/Users/wesleymonteith/code/project-m2-2024-chatbots-r-us/stemQ/data/20.106J/20.106J_Question_24.json\n",
      "/Users/wesleymonteith/code/project-m2-2024-chatbots-r-us/stemQ/data/20.106J/20.106J_Question_08.json\n",
      "/Users/wesleymonteith/code/project-m2-2024-chatbots-r-us/stemQ/data/20.106J/20.106J_Question_15.json\n",
      "/Users/wesleymonteith/code/project-m2-2024-chatbots-r-us/stemQ/data/20.106J/20.106J_Question_03.json\n",
      "/Users/wesleymonteith/code/project-m2-2024-chatbots-r-us/stemQ/data/20.106J/20.106J_Question_19.json\n",
      "/Users/wesleymonteith/code/project-m2-2024-chatbots-r-us/stemQ/data/20.106J/20.106J_Question_23.json\n",
      "/Users/wesleymonteith/code/project-m2-2024-chatbots-r-us/stemQ/data/20.106J/20.106J_Question_22.json\n",
      "/Users/wesleymonteith/code/project-m2-2024-chatbots-r-us/stemQ/data/20.106J/20.106J_Question_18.json\n",
      "/Users/wesleymonteith/code/project-m2-2024-chatbots-r-us/stemQ/data/20.106J/20.106J_Question_02.json\n",
      "/Users/wesleymonteith/code/project-m2-2024-chatbots-r-us/stemQ/data/20.106J/20.106J_Question_14.json\n",
      "/Users/wesleymonteith/code/project-m2-2024-chatbots-r-us/stemQ/data/20.106J/20.106J_Question_01.json\n",
      "/Users/wesleymonteith/code/project-m2-2024-chatbots-r-us/stemQ/data/20.106J/20.106J_Question_17.json\n",
      "/Users/wesleymonteith/code/project-m2-2024-chatbots-r-us/stemQ/data/20.106J/20.106J_Question_21.json\n",
      "/Users/wesleymonteith/code/project-m2-2024-chatbots-r-us/stemQ/data/20.106J/20.106J_Question_20.json\n",
      "/Users/wesleymonteith/code/project-m2-2024-chatbots-r-us/stemQ/data/20.106J/20.106J_Question_16.json\n",
      "/Users/wesleymonteith/code/project-m2-2024-chatbots-r-us/stemQ/data/20.106J/20.106J_Question_07.json\n",
      "/Users/wesleymonteith/code/project-m2-2024-chatbots-r-us/stemQ/data/20.106J/20.106J_Question_11.json\n",
      "/Users/wesleymonteith/code/project-m2-2024-chatbots-r-us/stemQ/data/20.106J/20.106J_Question_10.json\n",
      "/Users/wesleymonteith/code/project-m2-2024-chatbots-r-us/stemQ/data/20.106J/20.106J_Question_06.json\n",
      "/Users/wesleymonteith/code/project-m2-2024-chatbots-r-us/stemQ/data/UPenn MATH 110/UPenn MATH 110_Question_11.json\n",
      "/Users/wesleymonteith/code/project-m2-2024-chatbots-r-us/stemQ/data/UPenn MATH 110/UPenn MATH 110_Question_07.json\n",
      "/Users/wesleymonteith/code/project-m2-2024-chatbots-r-us/stemQ/data/UPenn MATH 110/UPenn MATH 110_Question_06.json\n",
      "/Users/wesleymonteith/code/project-m2-2024-chatbots-r-us/stemQ/data/UPenn MATH 110/UPenn MATH 110_Question_10.json\n",
      "/Users/wesleymonteith/code/project-m2-2024-chatbots-r-us/stemQ/data/UPenn MATH 110/UPenn MATH 110_Question_21.json\n",
      "/Users/wesleymonteith/code/project-m2-2024-chatbots-r-us/stemQ/data/UPenn MATH 110/UPenn MATH 110_Question_17.json\n",
      "/Users/wesleymonteith/code/project-m2-2024-chatbots-r-us/stemQ/data/UPenn MATH 110/UPenn MATH 110_Question_01.json\n",
      "/Users/wesleymonteith/code/project-m2-2024-chatbots-r-us/stemQ/data/UPenn MATH 110/UPenn MATH 110_Question_16.json\n",
      "/Users/wesleymonteith/code/project-m2-2024-chatbots-r-us/stemQ/data/UPenn MATH 110/UPenn MATH 110_Question_20.json\n",
      "/Users/wesleymonteith/code/project-m2-2024-chatbots-r-us/stemQ/data/UPenn MATH 110/UPenn MATH 110_Question_19.json\n",
      "/Users/wesleymonteith/code/project-m2-2024-chatbots-r-us/stemQ/data/UPenn MATH 110/UPenn MATH 110_Question_23.json\n",
      "/Users/wesleymonteith/code/project-m2-2024-chatbots-r-us/stemQ/data/UPenn MATH 110/UPenn MATH 110_Question_03.json\n",
      "/Users/wesleymonteith/code/project-m2-2024-chatbots-r-us/stemQ/data/UPenn MATH 110/UPenn MATH 110_Question_15.json\n",
      "/Users/wesleymonteith/code/project-m2-2024-chatbots-r-us/stemQ/data/UPenn MATH 110/UPenn MATH 110_Question_14.json\n",
      "/Users/wesleymonteith/code/project-m2-2024-chatbots-r-us/stemQ/data/UPenn MATH 110/UPenn MATH 110_Question_02.json\n",
      "/Users/wesleymonteith/code/project-m2-2024-chatbots-r-us/stemQ/data/UPenn MATH 110/UPenn MATH 110_Question_22.json\n",
      "/Users/wesleymonteith/code/project-m2-2024-chatbots-r-us/stemQ/data/UPenn MATH 110/UPenn MATH 110_Question_18.json\n",
      "/Users/wesleymonteith/code/project-m2-2024-chatbots-r-us/stemQ/data/UPenn MATH 110/UPenn MATH 110_Question_05.json\n",
      "/Users/wesleymonteith/code/project-m2-2024-chatbots-r-us/stemQ/data/UPenn MATH 110/UPenn MATH 110_Question_13.json\n",
      "/Users/wesleymonteith/code/project-m2-2024-chatbots-r-us/stemQ/data/UPenn MATH 110/UPenn MATH 110_Question_09.json\n",
      "/Users/wesleymonteith/code/project-m2-2024-chatbots-r-us/stemQ/data/UPenn MATH 110/UPenn MATH 110_Question_24.json\n",
      "/Users/wesleymonteith/code/project-m2-2024-chatbots-r-us/stemQ/data/UPenn MATH 110/UPenn MATH 110_Question_08.json\n",
      "/Users/wesleymonteith/code/project-m2-2024-chatbots-r-us/stemQ/data/UPenn MATH 110/UPenn MATH 110_Question_12.json\n",
      "/Users/wesleymonteith/code/project-m2-2024-chatbots-r-us/stemQ/data/UPenn MATH 110/UPenn MATH 110_Question_04.json\n",
      "/Users/wesleymonteith/code/project-m2-2024-chatbots-r-us/stemQ/data/18.781/18.781_Question_18.json\n",
      "/Users/wesleymonteith/code/project-m2-2024-chatbots-r-us/stemQ/data/18.781/18.781_Question_02.json\n",
      "/Users/wesleymonteith/code/project-m2-2024-chatbots-r-us/stemQ/data/18.781/18.781_Question_14.json\n",
      "/Users/wesleymonteith/code/project-m2-2024-chatbots-r-us/stemQ/data/18.781/18.781_Question_15.json\n",
      "/Users/wesleymonteith/code/project-m2-2024-chatbots-r-us/stemQ/data/18.781/18.781_Question_03.json\n",
      "/Users/wesleymonteith/code/project-m2-2024-chatbots-r-us/stemQ/data/18.781/18.781_Question_19.json\n",
      "/Users/wesleymonteith/code/project-m2-2024-chatbots-r-us/stemQ/data/18.781/18.781_Question_04.json\n",
      "/Users/wesleymonteith/code/project-m2-2024-chatbots-r-us/stemQ/data/18.781/18.781_Question_12.json\n",
      "/Users/wesleymonteith/code/project-m2-2024-chatbots-r-us/stemQ/data/18.781/18.781_Question_08.json\n",
      "/Users/wesleymonteith/code/project-m2-2024-chatbots-r-us/stemQ/data/18.781/18.781_Question_09.json\n",
      "/Users/wesleymonteith/code/project-m2-2024-chatbots-r-us/stemQ/data/18.781/18.781_Question_13.json\n",
      "/Users/wesleymonteith/code/project-m2-2024-chatbots-r-us/stemQ/data/18.781/18.781_Question_05.json\n",
      "/Users/wesleymonteith/code/project-m2-2024-chatbots-r-us/stemQ/data/18.781/18.781_Question_10.json\n",
      "/Users/wesleymonteith/code/project-m2-2024-chatbots-r-us/stemQ/data/18.781/18.781_Question_06.json\n",
      "/Users/wesleymonteith/code/project-m2-2024-chatbots-r-us/stemQ/data/18.781/18.781_Question_07.json\n",
      "/Users/wesleymonteith/code/project-m2-2024-chatbots-r-us/stemQ/data/18.781/18.781_Question_11.json\n",
      "/Users/wesleymonteith/code/project-m2-2024-chatbots-r-us/stemQ/data/18.781/18.781_Question_20.json\n",
      "/Users/wesleymonteith/code/project-m2-2024-chatbots-r-us/stemQ/data/18.781/18.781_Question_16.json\n",
      "/Users/wesleymonteith/code/project-m2-2024-chatbots-r-us/stemQ/data/18.781/18.781_Question_01.json\n",
      "/Users/wesleymonteith/code/project-m2-2024-chatbots-r-us/stemQ/data/18.781/18.781_Question_17.json\n",
      "/Users/wesleymonteith/code/project-m2-2024-chatbots-r-us/stemQ/data/2.016/2.016_Question_07.json\n",
      "/Users/wesleymonteith/code/project-m2-2024-chatbots-r-us/stemQ/data/2.016/2.016_Question_11.json\n",
      "/Users/wesleymonteith/code/project-m2-2024-chatbots-r-us/stemQ/data/2.016/2.016_Question_10.json\n",
      "/Users/wesleymonteith/code/project-m2-2024-chatbots-r-us/stemQ/data/2.016/2.016_Question_06.json\n",
      "/Users/wesleymonteith/code/project-m2-2024-chatbots-r-us/stemQ/data/2.016/2.016_Question_21.json\n",
      "/Users/wesleymonteith/code/project-m2-2024-chatbots-r-us/stemQ/data/2.016/2.016_Question_01.json\n",
      "/Users/wesleymonteith/code/project-m2-2024-chatbots-r-us/stemQ/data/2.016/2.016_Question_17.json\n",
      "/Users/wesleymonteith/code/project-m2-2024-chatbots-r-us/stemQ/data/2.016/2.016_Question_16.json\n",
      "/Users/wesleymonteith/code/project-m2-2024-chatbots-r-us/stemQ/data/2.016/2.016_Question_20.json\n",
      "/Users/wesleymonteith/code/project-m2-2024-chatbots-r-us/stemQ/data/2.016/2.016_Question_19.json\n",
      "/Users/wesleymonteith/code/project-m2-2024-chatbots-r-us/stemQ/data/2.016/2.016_Question_15.json\n",
      "/Users/wesleymonteith/code/project-m2-2024-chatbots-r-us/stemQ/data/2.016/2.016_Question_03.json\n",
      "/Users/wesleymonteith/code/project-m2-2024-chatbots-r-us/stemQ/data/2.016/2.016_Question_02.json\n",
      "/Users/wesleymonteith/code/project-m2-2024-chatbots-r-us/stemQ/data/2.016/2.016_Question_14.json\n",
      "/Users/wesleymonteith/code/project-m2-2024-chatbots-r-us/stemQ/data/2.016/2.016_Question_18.json\n",
      "/Users/wesleymonteith/code/project-m2-2024-chatbots-r-us/stemQ/data/2.016/2.016_Question_13.json\n",
      "/Users/wesleymonteith/code/project-m2-2024-chatbots-r-us/stemQ/data/2.016/2.016_Question_05.json\n",
      "/Users/wesleymonteith/code/project-m2-2024-chatbots-r-us/stemQ/data/2.016/2.016_Question_09.json\n",
      "/Users/wesleymonteith/code/project-m2-2024-chatbots-r-us/stemQ/data/2.016/2.016_Question_08.json\n",
      "/Users/wesleymonteith/code/project-m2-2024-chatbots-r-us/stemQ/data/2.016/2.016_Question_04.json\n",
      "/Users/wesleymonteith/code/project-m2-2024-chatbots-r-us/stemQ/data/2.016/2.016_Question_12.json\n",
      "/Users/wesleymonteith/code/project-m2-2024-chatbots-r-us/stemQ/data/3.016/3.016_Question_17.json\n",
      "/Users/wesleymonteith/code/project-m2-2024-chatbots-r-us/stemQ/data/3.016/3.016_Question_01.json\n",
      "/Users/wesleymonteith/code/project-m2-2024-chatbots-r-us/stemQ/data/3.016/3.016_Question_21.json\n",
      "/Users/wesleymonteith/code/project-m2-2024-chatbots-r-us/stemQ/data/3.016/3.016_Question_20.json\n",
      "/Users/wesleymonteith/code/project-m2-2024-chatbots-r-us/stemQ/data/3.016/3.016_Question_16.json\n",
      "/Users/wesleymonteith/code/project-m2-2024-chatbots-r-us/stemQ/data/3.016/3.016_Question_11.json\n",
      "/Users/wesleymonteith/code/project-m2-2024-chatbots-r-us/stemQ/data/3.016/3.016_Question_07.json\n",
      "/Users/wesleymonteith/code/project-m2-2024-chatbots-r-us/stemQ/data/3.016/3.016_Question_06.json\n",
      "/Users/wesleymonteith/code/project-m2-2024-chatbots-r-us/stemQ/data/3.016/3.016_Question_10.json\n",
      "/Users/wesleymonteith/code/project-m2-2024-chatbots-r-us/stemQ/data/3.016/3.016_Question_25.json\n",
      "/Users/wesleymonteith/code/project-m2-2024-chatbots-r-us/stemQ/data/3.016/3.016_Question_09.json\n",
      "/Users/wesleymonteith/code/project-m2-2024-chatbots-r-us/stemQ/data/3.016/3.016_Question_05.json\n",
      "/Users/wesleymonteith/code/project-m2-2024-chatbots-r-us/stemQ/data/3.016/3.016_Question_13.json\n",
      "/Users/wesleymonteith/code/project-m2-2024-chatbots-r-us/stemQ/data/3.016/3.016_Question_12.json\n",
      "/Users/wesleymonteith/code/project-m2-2024-chatbots-r-us/stemQ/data/3.016/3.016_Question_04.json\n",
      "/Users/wesleymonteith/code/project-m2-2024-chatbots-r-us/stemQ/data/3.016/3.016_Question_08.json\n",
      "/Users/wesleymonteith/code/project-m2-2024-chatbots-r-us/stemQ/data/3.016/3.016_Question_24.json\n",
      "/Users/wesleymonteith/code/project-m2-2024-chatbots-r-us/stemQ/data/3.016/3.016_Question_03.json\n",
      "/Users/wesleymonteith/code/project-m2-2024-chatbots-r-us/stemQ/data/3.016/3.016_Question_15.json\n",
      "/Users/wesleymonteith/code/project-m2-2024-chatbots-r-us/stemQ/data/3.016/3.016_Question_23.json\n",
      "/Users/wesleymonteith/code/project-m2-2024-chatbots-r-us/stemQ/data/3.016/3.016_Question_19.json\n",
      "/Users/wesleymonteith/code/project-m2-2024-chatbots-r-us/stemQ/data/3.016/3.016_Question_18.json\n",
      "/Users/wesleymonteith/code/project-m2-2024-chatbots-r-us/stemQ/data/3.016/3.016_Question_22.json\n",
      "/Users/wesleymonteith/code/project-m2-2024-chatbots-r-us/stemQ/data/3.016/3.016_Question_14.json\n",
      "/Users/wesleymonteith/code/project-m2-2024-chatbots-r-us/stemQ/data/3.016/3.016_Question_02.json\n",
      "/Users/wesleymonteith/code/project-m2-2024-chatbots-r-us/stemQ/data/12.007/12.007_Question_21.json\n",
      "/Users/wesleymonteith/code/project-m2-2024-chatbots-r-us/stemQ/data/12.007/12.007_Question_01.json\n",
      "/Users/wesleymonteith/code/project-m2-2024-chatbots-r-us/stemQ/data/12.007/12.007_Question_17.json\n",
      "/Users/wesleymonteith/code/project-m2-2024-chatbots-r-us/stemQ/data/12.007/12.007_Question_16.json\n",
      "/Users/wesleymonteith/code/project-m2-2024-chatbots-r-us/stemQ/data/12.007/12.007_Question_20.json\n",
      "/Users/wesleymonteith/code/project-m2-2024-chatbots-r-us/stemQ/data/12.007/12.007_Question_07.json\n",
      "/Users/wesleymonteith/code/project-m2-2024-chatbots-r-us/stemQ/data/12.007/12.007_Question_11.json\n",
      "/Users/wesleymonteith/code/project-m2-2024-chatbots-r-us/stemQ/data/12.007/12.007_Question_10.json\n",
      "/Users/wesleymonteith/code/project-m2-2024-chatbots-r-us/stemQ/data/12.007/12.007_Question_06.json\n",
      "/Users/wesleymonteith/code/project-m2-2024-chatbots-r-us/stemQ/data/12.007/12.007_Question_13.json\n",
      "/Users/wesleymonteith/code/project-m2-2024-chatbots-r-us/stemQ/data/12.007/12.007_Question_05.json\n",
      "/Users/wesleymonteith/code/project-m2-2024-chatbots-r-us/stemQ/data/12.007/12.007_Question_25.json\n",
      "/Users/wesleymonteith/code/project-m2-2024-chatbots-r-us/stemQ/data/12.007/12.007_Question_09.json\n",
      "/Users/wesleymonteith/code/project-m2-2024-chatbots-r-us/stemQ/data/12.007/12.007_Question_08.json\n",
      "/Users/wesleymonteith/code/project-m2-2024-chatbots-r-us/stemQ/data/12.007/12.007_Question_24.json\n",
      "/Users/wesleymonteith/code/project-m2-2024-chatbots-r-us/stemQ/data/12.007/12.007_Question_04.json\n",
      "/Users/wesleymonteith/code/project-m2-2024-chatbots-r-us/stemQ/data/12.007/12.007_Question_12.json\n",
      "/Users/wesleymonteith/code/project-m2-2024-chatbots-r-us/stemQ/data/12.007/12.007_Question_23.json\n",
      "/Users/wesleymonteith/code/project-m2-2024-chatbots-r-us/stemQ/data/12.007/12.007_Question_19.json\n",
      "/Users/wesleymonteith/code/project-m2-2024-chatbots-r-us/stemQ/data/12.007/12.007_Question_15.json\n",
      "/Users/wesleymonteith/code/project-m2-2024-chatbots-r-us/stemQ/data/12.007/12.007_Question_03.json\n",
      "/Users/wesleymonteith/code/project-m2-2024-chatbots-r-us/stemQ/data/12.007/12.007_Question_02.json\n",
      "/Users/wesleymonteith/code/project-m2-2024-chatbots-r-us/stemQ/data/12.007/12.007_Question_14.json\n",
      "/Users/wesleymonteith/code/project-m2-2024-chatbots-r-us/stemQ/data/12.007/12.007_Question_18.json\n",
      "/Users/wesleymonteith/code/project-m2-2024-chatbots-r-us/stemQ/data/12.007/12.007_Question_22.json\n",
      "/Users/wesleymonteith/code/project-m2-2024-chatbots-r-us/stemQ/data/16.01+2/16.01+2_Question_20.json\n",
      "/Users/wesleymonteith/code/project-m2-2024-chatbots-r-us/stemQ/data/16.01+2/16.01+2_Question_16.json\n",
      "/Users/wesleymonteith/code/project-m2-2024-chatbots-r-us/stemQ/data/16.01+2/16.01+2_Question_01.json\n",
      "/Users/wesleymonteith/code/project-m2-2024-chatbots-r-us/stemQ/data/16.01+2/16.01+2_Question_17.json\n",
      "/Users/wesleymonteith/code/project-m2-2024-chatbots-r-us/stemQ/data/16.01+2/16.01+2_Question_21.json\n",
      "/Users/wesleymonteith/code/project-m2-2024-chatbots-r-us/stemQ/data/16.01+2/16.01+2_Question_10.json\n",
      "/Users/wesleymonteith/code/project-m2-2024-chatbots-r-us/stemQ/data/16.01+2/16.01+2_Question_06.json\n",
      "/Users/wesleymonteith/code/project-m2-2024-chatbots-r-us/stemQ/data/16.01+2/16.01+2_Question_07.json\n",
      "/Users/wesleymonteith/code/project-m2-2024-chatbots-r-us/stemQ/data/16.01+2/16.01+2_Question_11.json\n",
      "/Users/wesleymonteith/code/project-m2-2024-chatbots-r-us/stemQ/data/16.01+2/16.01+2_Question_04.json\n",
      "/Users/wesleymonteith/code/project-m2-2024-chatbots-r-us/stemQ/data/16.01+2/16.01+2_Question_12.json\n",
      "/Users/wesleymonteith/code/project-m2-2024-chatbots-r-us/stemQ/data/16.01+2/16.01+2_Question_24.json\n",
      "/Users/wesleymonteith/code/project-m2-2024-chatbots-r-us/stemQ/data/16.01+2/16.01+2_Question_08.json\n",
      "/Users/wesleymonteith/code/project-m2-2024-chatbots-r-us/stemQ/data/16.01+2/16.01+2_Question_09.json\n",
      "/Users/wesleymonteith/code/project-m2-2024-chatbots-r-us/stemQ/data/16.01+2/16.01+2_Question_25.json\n",
      "/Users/wesleymonteith/code/project-m2-2024-chatbots-r-us/stemQ/data/16.01+2/16.01+2_Question_13.json\n",
      "/Users/wesleymonteith/code/project-m2-2024-chatbots-r-us/stemQ/data/16.01+2/16.01+2_Question_05.json\n",
      "/Users/wesleymonteith/code/project-m2-2024-chatbots-r-us/stemQ/data/16.01+2/16.01+2_Question_22.json\n",
      "/Users/wesleymonteith/code/project-m2-2024-chatbots-r-us/stemQ/data/16.01+2/16.01+2_Question_18.json\n",
      "/Users/wesleymonteith/code/project-m2-2024-chatbots-r-us/stemQ/data/16.01+2/16.01+2_Question_02.json\n",
      "/Users/wesleymonteith/code/project-m2-2024-chatbots-r-us/stemQ/data/16.01+2/16.01+2_Question_14.json\n",
      "/Users/wesleymonteith/code/project-m2-2024-chatbots-r-us/stemQ/data/16.01+2/16.01+2_Question_15.json\n",
      "/Users/wesleymonteith/code/project-m2-2024-chatbots-r-us/stemQ/data/16.01+2/16.01+2_Question_03.json\n",
      "/Users/wesleymonteith/code/project-m2-2024-chatbots-r-us/stemQ/data/16.01+2/16.01+2_Question_19.json\n",
      "/Users/wesleymonteith/code/project-m2-2024-chatbots-r-us/stemQ/data/16.01+2/16.01+2_Question_23.json\n",
      "/Users/wesleymonteith/code/project-m2-2024-chatbots-r-us/stemQ/data/6.003/6.003_Question_07.json\n",
      "/Users/wesleymonteith/code/project-m2-2024-chatbots-r-us/stemQ/data/6.003/6.003_Question_11.json\n",
      "/Users/wesleymonteith/code/project-m2-2024-chatbots-r-us/stemQ/data/6.003/6.003_Question_27.json\n",
      "/Users/wesleymonteith/code/project-m2-2024-chatbots-r-us/stemQ/data/6.003/6.003_Question_26.json\n",
      "/Users/wesleymonteith/code/project-m2-2024-chatbots-r-us/stemQ/data/6.003/6.003_Question_30.json\n",
      "/Users/wesleymonteith/code/project-m2-2024-chatbots-r-us/stemQ/data/6.003/6.003_Question_10.json\n",
      "/Users/wesleymonteith/code/project-m2-2024-chatbots-r-us/stemQ/data/6.003/6.003_Question_06.json\n",
      "/Users/wesleymonteith/code/project-m2-2024-chatbots-r-us/stemQ/data/6.003/6.003_Question_21.json\n",
      "/Users/wesleymonteith/code/project-m2-2024-chatbots-r-us/stemQ/data/6.003/6.003_Question_01.json\n",
      "/Users/wesleymonteith/code/project-m2-2024-chatbots-r-us/stemQ/data/6.003/6.003_Question_17.json\n",
      "/Users/wesleymonteith/code/project-m2-2024-chatbots-r-us/stemQ/data/6.003/6.003_Question_16.json\n",
      "/Users/wesleymonteith/code/project-m2-2024-chatbots-r-us/stemQ/data/6.003/6.003_Question_20.json\n",
      "/Users/wesleymonteith/code/project-m2-2024-chatbots-r-us/stemQ/data/6.003/6.003_Question_19.json\n",
      "/Users/wesleymonteith/code/project-m2-2024-chatbots-r-us/stemQ/data/6.003/6.003_Question_23.json\n",
      "/Users/wesleymonteith/code/project-m2-2024-chatbots-r-us/stemQ/data/6.003/6.003_Question_15.json\n",
      "/Users/wesleymonteith/code/project-m2-2024-chatbots-r-us/stemQ/data/6.003/6.003_Question_03.json\n",
      "/Users/wesleymonteith/code/project-m2-2024-chatbots-r-us/stemQ/data/6.003/6.003_Question_02.json\n",
      "/Users/wesleymonteith/code/project-m2-2024-chatbots-r-us/stemQ/data/6.003/6.003_Question_14.json\n",
      "/Users/wesleymonteith/code/project-m2-2024-chatbots-r-us/stemQ/data/6.003/6.003_Question_22.json\n",
      "/Users/wesleymonteith/code/project-m2-2024-chatbots-r-us/stemQ/data/6.003/6.003_Question_18.json\n",
      "/Users/wesleymonteith/code/project-m2-2024-chatbots-r-us/stemQ/data/6.003/6.003_Question_13.json\n",
      "/Users/wesleymonteith/code/project-m2-2024-chatbots-r-us/stemQ/data/6.003/6.003_Question_05.json\n",
      "/Users/wesleymonteith/code/project-m2-2024-chatbots-r-us/stemQ/data/6.003/6.003_Question_29.json\n",
      "/Users/wesleymonteith/code/project-m2-2024-chatbots-r-us/stemQ/data/6.003/6.003_Question_09.json\n",
      "/Users/wesleymonteith/code/project-m2-2024-chatbots-r-us/stemQ/data/6.003/6.003_Question_25.json\n",
      "/Users/wesleymonteith/code/project-m2-2024-chatbots-r-us/stemQ/data/6.003/6.003_Question_24.json\n",
      "/Users/wesleymonteith/code/project-m2-2024-chatbots-r-us/stemQ/data/6.003/6.003_Question_08.json\n",
      "/Users/wesleymonteith/code/project-m2-2024-chatbots-r-us/stemQ/data/6.003/6.003_Question_28.json\n",
      "/Users/wesleymonteith/code/project-m2-2024-chatbots-r-us/stemQ/data/6.003/6.003_Question_04.json\n",
      "/Users/wesleymonteith/code/project-m2-2024-chatbots-r-us/stemQ/data/6.003/6.003_Question_12.json\n",
      "/Users/wesleymonteith/code/project-m2-2024-chatbots-r-us/stemQ/data/IDS.013J/IDS.013J_Question_04.json\n",
      "/Users/wesleymonteith/code/project-m2-2024-chatbots-r-us/stemQ/data/IDS.013J/IDS.013J_Question_12.json\n",
      "/Users/wesleymonteith/code/project-m2-2024-chatbots-r-us/stemQ/data/IDS.013J/IDS.013J_Question_08.json\n",
      "/Users/wesleymonteith/code/project-m2-2024-chatbots-r-us/stemQ/data/IDS.013J/IDS.013J_Question_09.json\n",
      "/Users/wesleymonteith/code/project-m2-2024-chatbots-r-us/stemQ/data/IDS.013J/IDS.013J_Question_13.json\n",
      "/Users/wesleymonteith/code/project-m2-2024-chatbots-r-us/stemQ/data/IDS.013J/IDS.013J_Question_05.json\n",
      "/Users/wesleymonteith/code/project-m2-2024-chatbots-r-us/stemQ/data/IDS.013J/IDS.013J_Question_22.json\n",
      "/Users/wesleymonteith/code/project-m2-2024-chatbots-r-us/stemQ/data/IDS.013J/IDS.013J_Question_18.json\n",
      "/Users/wesleymonteith/code/project-m2-2024-chatbots-r-us/stemQ/data/IDS.013J/IDS.013J_Question_02.json\n",
      "/Users/wesleymonteith/code/project-m2-2024-chatbots-r-us/stemQ/data/IDS.013J/IDS.013J_Question_14.json\n",
      "/Users/wesleymonteith/code/project-m2-2024-chatbots-r-us/stemQ/data/IDS.013J/IDS.013J_Question_15.json\n",
      "/Users/wesleymonteith/code/project-m2-2024-chatbots-r-us/stemQ/data/IDS.013J/IDS.013J_Question_03.json\n",
      "/Users/wesleymonteith/code/project-m2-2024-chatbots-r-us/stemQ/data/IDS.013J/IDS.013J_Question_19.json\n",
      "/Users/wesleymonteith/code/project-m2-2024-chatbots-r-us/stemQ/data/IDS.013J/IDS.013J_Question_23.json\n",
      "/Users/wesleymonteith/code/project-m2-2024-chatbots-r-us/stemQ/data/IDS.013J/IDS.013J_Question_20.json\n",
      "/Users/wesleymonteith/code/project-m2-2024-chatbots-r-us/stemQ/data/IDS.013J/IDS.013J_Question_16.json\n",
      "/Users/wesleymonteith/code/project-m2-2024-chatbots-r-us/stemQ/data/IDS.013J/IDS.013J_Question_01.json\n",
      "/Users/wesleymonteith/code/project-m2-2024-chatbots-r-us/stemQ/data/IDS.013J/IDS.013J_Question_17.json\n",
      "/Users/wesleymonteith/code/project-m2-2024-chatbots-r-us/stemQ/data/IDS.013J/IDS.013J_Question_21.json\n",
      "/Users/wesleymonteith/code/project-m2-2024-chatbots-r-us/stemQ/data/IDS.013J/IDS.013J_Question_10.json\n",
      "/Users/wesleymonteith/code/project-m2-2024-chatbots-r-us/stemQ/data/IDS.013J/IDS.013J_Question_06.json\n",
      "/Users/wesleymonteith/code/project-m2-2024-chatbots-r-us/stemQ/data/IDS.013J/IDS.013J_Question_07.json\n",
      "/Users/wesleymonteith/code/project-m2-2024-chatbots-r-us/stemQ/data/IDS.013J/IDS.013J_Question_11.json\n",
      "/Users/wesleymonteith/code/project-m2-2024-chatbots-r-us/stemQ/data/6.041/6.041_Question_14.json\n",
      "/Users/wesleymonteith/code/project-m2-2024-chatbots-r-us/stemQ/data/6.041/6.041_Question_02.json\n",
      "/Users/wesleymonteith/code/project-m2-2024-chatbots-r-us/stemQ/data/6.041/6.041_Question_18.json\n",
      "/Users/wesleymonteith/code/project-m2-2024-chatbots-r-us/stemQ/data/6.041/6.041_Question_22.json\n",
      "/Users/wesleymonteith/code/project-m2-2024-chatbots-r-us/stemQ/data/6.041/6.041_Question_23.json\n",
      "/Users/wesleymonteith/code/project-m2-2024-chatbots-r-us/stemQ/data/6.041/6.041_Question_19.json\n",
      "/Users/wesleymonteith/code/project-m2-2024-chatbots-r-us/stemQ/data/6.041/6.041_Question_03.json\n",
      "/Users/wesleymonteith/code/project-m2-2024-chatbots-r-us/stemQ/data/6.041/6.041_Question_15.json\n",
      "/Users/wesleymonteith/code/project-m2-2024-chatbots-r-us/stemQ/data/6.041/6.041_Question_08.json\n",
      "/Users/wesleymonteith/code/project-m2-2024-chatbots-r-us/stemQ/data/6.041/6.041_Question_24.json\n",
      "/Users/wesleymonteith/code/project-m2-2024-chatbots-r-us/stemQ/data/6.041/6.041_Question_12.json\n",
      "/Users/wesleymonteith/code/project-m2-2024-chatbots-r-us/stemQ/data/6.041/6.041_Question_04.json\n",
      "/Users/wesleymonteith/code/project-m2-2024-chatbots-r-us/stemQ/data/6.041/6.041_Question_28.json\n",
      "/Users/wesleymonteith/code/project-m2-2024-chatbots-r-us/stemQ/data/6.041/6.041_Question_29.json\n",
      "/Users/wesleymonteith/code/project-m2-2024-chatbots-r-us/stemQ/data/6.041/6.041_Question_05.json\n",
      "/Users/wesleymonteith/code/project-m2-2024-chatbots-r-us/stemQ/data/6.041/6.041_Question_13.json\n",
      "/Users/wesleymonteith/code/project-m2-2024-chatbots-r-us/stemQ/data/6.041/6.041_Question_25.json\n",
      "/Users/wesleymonteith/code/project-m2-2024-chatbots-r-us/stemQ/data/6.041/6.041_Question_09.json\n",
      "/Users/wesleymonteith/code/project-m2-2024-chatbots-r-us/stemQ/data/6.041/6.041_Question_30.json\n",
      "/Users/wesleymonteith/code/project-m2-2024-chatbots-r-us/stemQ/data/6.041/6.041_Question_26.json\n",
      "/Users/wesleymonteith/code/project-m2-2024-chatbots-r-us/stemQ/data/6.041/6.041_Question_06.json\n",
      "/Users/wesleymonteith/code/project-m2-2024-chatbots-r-us/stemQ/data/6.041/6.041_Question_10.json\n",
      "/Users/wesleymonteith/code/project-m2-2024-chatbots-r-us/stemQ/data/6.041/6.041_Question_11.json\n",
      "/Users/wesleymonteith/code/project-m2-2024-chatbots-r-us/stemQ/data/6.041/6.041_Question_07.json\n",
      "/Users/wesleymonteith/code/project-m2-2024-chatbots-r-us/stemQ/data/6.041/6.041_Question_27.json\n",
      "/Users/wesleymonteith/code/project-m2-2024-chatbots-r-us/stemQ/data/6.041/6.041_Question_16.json\n",
      "/Users/wesleymonteith/code/project-m2-2024-chatbots-r-us/stemQ/data/6.041/6.041_Question_20.json\n",
      "/Users/wesleymonteith/code/project-m2-2024-chatbots-r-us/stemQ/data/6.041/6.041_Question_21.json\n",
      "/Users/wesleymonteith/code/project-m2-2024-chatbots-r-us/stemQ/data/6.041/6.041_Question_17.json\n",
      "/Users/wesleymonteith/code/project-m2-2024-chatbots-r-us/stemQ/data/6.041/6.041_Question_01.json\n",
      "/Users/wesleymonteith/code/project-m2-2024-chatbots-r-us/stemQ/data/YALE PHYS 200/YALE PHYS 200_Question_11.json\n",
      "/Users/wesleymonteith/code/project-m2-2024-chatbots-r-us/stemQ/data/YALE PHYS 200/YALE PHYS 200_Question_07.json\n",
      "/Users/wesleymonteith/code/project-m2-2024-chatbots-r-us/stemQ/data/YALE PHYS 200/YALE PHYS 200_Question_06.json\n",
      "/Users/wesleymonteith/code/project-m2-2024-chatbots-r-us/stemQ/data/YALE PHYS 200/YALE PHYS 200_Question_10.json\n",
      "/Users/wesleymonteith/code/project-m2-2024-chatbots-r-us/stemQ/data/YALE PHYS 200/YALE PHYS 200_Question_21.json\n",
      "/Users/wesleymonteith/code/project-m2-2024-chatbots-r-us/stemQ/data/YALE PHYS 200/YALE PHYS 200_Question_17.json\n",
      "/Users/wesleymonteith/code/project-m2-2024-chatbots-r-us/stemQ/data/YALE PHYS 200/YALE PHYS 200_Question_01.json\n",
      "/Users/wesleymonteith/code/project-m2-2024-chatbots-r-us/stemQ/data/YALE PHYS 200/YALE PHYS 200_Question_16.json\n",
      "/Users/wesleymonteith/code/project-m2-2024-chatbots-r-us/stemQ/data/YALE PHYS 200/YALE PHYS 200_Question_20.json\n",
      "/Users/wesleymonteith/code/project-m2-2024-chatbots-r-us/stemQ/data/YALE PHYS 200/YALE PHYS 200_Question_19.json\n",
      "/Users/wesleymonteith/code/project-m2-2024-chatbots-r-us/stemQ/data/YALE PHYS 200/YALE PHYS 200_Question_23.json\n",
      "/Users/wesleymonteith/code/project-m2-2024-chatbots-r-us/stemQ/data/YALE PHYS 200/YALE PHYS 200_Question_03.json\n",
      "/Users/wesleymonteith/code/project-m2-2024-chatbots-r-us/stemQ/data/YALE PHYS 200/YALE PHYS 200_Question_15.json\n",
      "/Users/wesleymonteith/code/project-m2-2024-chatbots-r-us/stemQ/data/YALE PHYS 200/YALE PHYS 200_Question_14.json\n",
      "/Users/wesleymonteith/code/project-m2-2024-chatbots-r-us/stemQ/data/YALE PHYS 200/YALE PHYS 200_Question_02.json\n",
      "/Users/wesleymonteith/code/project-m2-2024-chatbots-r-us/stemQ/data/YALE PHYS 200/YALE PHYS 200_Question_22.json\n",
      "/Users/wesleymonteith/code/project-m2-2024-chatbots-r-us/stemQ/data/YALE PHYS 200/YALE PHYS 200_Question_18.json\n",
      "/Users/wesleymonteith/code/project-m2-2024-chatbots-r-us/stemQ/data/YALE PHYS 200/YALE PHYS 200_Question_05.json\n",
      "/Users/wesleymonteith/code/project-m2-2024-chatbots-r-us/stemQ/data/YALE PHYS 200/YALE PHYS 200_Question_13.json\n",
      "/Users/wesleymonteith/code/project-m2-2024-chatbots-r-us/stemQ/data/YALE PHYS 200/YALE PHYS 200_Question_09.json\n",
      "/Users/wesleymonteith/code/project-m2-2024-chatbots-r-us/stemQ/data/YALE PHYS 200/YALE PHYS 200_Question_25.json\n",
      "/Users/wesleymonteith/code/project-m2-2024-chatbots-r-us/stemQ/data/YALE PHYS 200/YALE PHYS 200_Question_24.json\n",
      "/Users/wesleymonteith/code/project-m2-2024-chatbots-r-us/stemQ/data/YALE PHYS 200/YALE PHYS 200_Question_08.json\n",
      "/Users/wesleymonteith/code/project-m2-2024-chatbots-r-us/stemQ/data/YALE PHYS 200/YALE PHYS 200_Question_12.json\n",
      "/Users/wesleymonteith/code/project-m2-2024-chatbots-r-us/stemQ/data/YALE PHYS 200/YALE PHYS 200_Question_04.json\n",
      "/Users/wesleymonteith/code/project-m2-2024-chatbots-r-us/stemQ/data/Princeton MATH 104/Princeton MATH 104_Question_05.json\n",
      "/Users/wesleymonteith/code/project-m2-2024-chatbots-r-us/stemQ/data/Princeton MATH 104/Princeton MATH 104_Question_13.json\n",
      "/Users/wesleymonteith/code/project-m2-2024-chatbots-r-us/stemQ/data/Princeton MATH 104/Princeton MATH 104_Question_09.json\n",
      "/Users/wesleymonteith/code/project-m2-2024-chatbots-r-us/stemQ/data/Princeton MATH 104/Princeton MATH 104_Question_25.json\n",
      "/Users/wesleymonteith/code/project-m2-2024-chatbots-r-us/stemQ/data/Princeton MATH 104/Princeton MATH 104_Question_24.json\n",
      "/Users/wesleymonteith/code/project-m2-2024-chatbots-r-us/stemQ/data/Princeton MATH 104/Princeton MATH 104_Question_08.json\n",
      "/Users/wesleymonteith/code/project-m2-2024-chatbots-r-us/stemQ/data/Princeton MATH 104/Princeton MATH 104_Question_12.json\n",
      "/Users/wesleymonteith/code/project-m2-2024-chatbots-r-us/stemQ/data/Princeton MATH 104/Princeton MATH 104_Question_04.json\n",
      "/Users/wesleymonteith/code/project-m2-2024-chatbots-r-us/stemQ/data/Princeton MATH 104/Princeton MATH 104_Question_19.json\n",
      "/Users/wesleymonteith/code/project-m2-2024-chatbots-r-us/stemQ/data/Princeton MATH 104/Princeton MATH 104_Question_23.json\n",
      "/Users/wesleymonteith/code/project-m2-2024-chatbots-r-us/stemQ/data/Princeton MATH 104/Princeton MATH 104_Question_03.json\n",
      "/Users/wesleymonteith/code/project-m2-2024-chatbots-r-us/stemQ/data/Princeton MATH 104/Princeton MATH 104_Question_15.json\n",
      "/Users/wesleymonteith/code/project-m2-2024-chatbots-r-us/stemQ/data/Princeton MATH 104/Princeton MATH 104_Question_14.json\n",
      "/Users/wesleymonteith/code/project-m2-2024-chatbots-r-us/stemQ/data/Princeton MATH 104/Princeton MATH 104_Question_02.json\n",
      "/Users/wesleymonteith/code/project-m2-2024-chatbots-r-us/stemQ/data/Princeton MATH 104/Princeton MATH 104_Question_22.json\n",
      "/Users/wesleymonteith/code/project-m2-2024-chatbots-r-us/stemQ/data/Princeton MATH 104/Princeton MATH 104_Question_18.json\n",
      "/Users/wesleymonteith/code/project-m2-2024-chatbots-r-us/stemQ/data/Princeton MATH 104/Princeton MATH 104_Question_21.json\n",
      "/Users/wesleymonteith/code/project-m2-2024-chatbots-r-us/stemQ/data/Princeton MATH 104/Princeton MATH 104_Question_17.json\n",
      "/Users/wesleymonteith/code/project-m2-2024-chatbots-r-us/stemQ/data/Princeton MATH 104/Princeton MATH 104_Question_01.json\n",
      "/Users/wesleymonteith/code/project-m2-2024-chatbots-r-us/stemQ/data/Princeton MATH 104/Princeton MATH 104_Question_16.json\n",
      "/Users/wesleymonteith/code/project-m2-2024-chatbots-r-us/stemQ/data/Princeton MATH 104/Princeton MATH 104_Question_20.json\n",
      "/Users/wesleymonteith/code/project-m2-2024-chatbots-r-us/stemQ/data/Princeton MATH 104/Princeton MATH 104_Question_11.json\n",
      "/Users/wesleymonteith/code/project-m2-2024-chatbots-r-us/stemQ/data/Princeton MATH 104/Princeton MATH 104_Question_07.json\n",
      "/Users/wesleymonteith/code/project-m2-2024-chatbots-r-us/stemQ/data/Princeton MATH 104/Princeton MATH 104_Question_06.json\n",
      "/Users/wesleymonteith/code/project-m2-2024-chatbots-r-us/stemQ/data/Princeton MATH 104/Princeton MATH 104_Question_10.json\n",
      "/Users/wesleymonteith/code/project-m2-2024-chatbots-r-us/stemQ/data/2.611/2.611_Question_03.json\n",
      "/Users/wesleymonteith/code/project-m2-2024-chatbots-r-us/stemQ/data/2.611/2.611_Question_15.json\n",
      "/Users/wesleymonteith/code/project-m2-2024-chatbots-r-us/stemQ/data/2.611/2.611_Question_19.json\n",
      "/Users/wesleymonteith/code/project-m2-2024-chatbots-r-us/stemQ/data/2.611/2.611_Question_23.json\n",
      "/Users/wesleymonteith/code/project-m2-2024-chatbots-r-us/stemQ/data/2.611/2.611_Question_22.json\n",
      "/Users/wesleymonteith/code/project-m2-2024-chatbots-r-us/stemQ/data/2.611/2.611_Question_18.json\n",
      "/Users/wesleymonteith/code/project-m2-2024-chatbots-r-us/stemQ/data/2.611/2.611_Question_14.json\n",
      "/Users/wesleymonteith/code/project-m2-2024-chatbots-r-us/stemQ/data/2.611/2.611_Question_02.json\n",
      "/Users/wesleymonteith/code/project-m2-2024-chatbots-r-us/stemQ/data/2.611/2.611_Question_09.json\n",
      "/Users/wesleymonteith/code/project-m2-2024-chatbots-r-us/stemQ/data/2.611/2.611_Question_25.json\n",
      "/Users/wesleymonteith/code/project-m2-2024-chatbots-r-us/stemQ/data/2.611/2.611_Question_05.json\n",
      "/Users/wesleymonteith/code/project-m2-2024-chatbots-r-us/stemQ/data/2.611/2.611_Question_13.json\n",
      "/Users/wesleymonteith/code/project-m2-2024-chatbots-r-us/stemQ/data/2.611/2.611_Question_12.json\n",
      "/Users/wesleymonteith/code/project-m2-2024-chatbots-r-us/stemQ/data/2.611/2.611_Question_04.json\n",
      "/Users/wesleymonteith/code/project-m2-2024-chatbots-r-us/stemQ/data/2.611/2.611_Question_24.json\n",
      "/Users/wesleymonteith/code/project-m2-2024-chatbots-r-us/stemQ/data/2.611/2.611_Question_08.json\n",
      "/Users/wesleymonteith/code/project-m2-2024-chatbots-r-us/stemQ/data/2.611/2.611_Question_27.json\n",
      "/Users/wesleymonteith/code/project-m2-2024-chatbots-r-us/stemQ/data/2.611/2.611_Question_11.json\n",
      "/Users/wesleymonteith/code/project-m2-2024-chatbots-r-us/stemQ/data/2.611/2.611_Question_07.json\n",
      "/Users/wesleymonteith/code/project-m2-2024-chatbots-r-us/stemQ/data/2.611/2.611_Question_06.json\n",
      "/Users/wesleymonteith/code/project-m2-2024-chatbots-r-us/stemQ/data/2.611/2.611_Question_10.json\n",
      "/Users/wesleymonteith/code/project-m2-2024-chatbots-r-us/stemQ/data/2.611/2.611_Question_26.json\n",
      "/Users/wesleymonteith/code/project-m2-2024-chatbots-r-us/stemQ/data/2.611/2.611_Question_17.json\n",
      "/Users/wesleymonteith/code/project-m2-2024-chatbots-r-us/stemQ/data/2.611/2.611_Question_01.json\n",
      "/Users/wesleymonteith/code/project-m2-2024-chatbots-r-us/stemQ/data/2.611/2.611_Question_21.json\n",
      "/Users/wesleymonteith/code/project-m2-2024-chatbots-r-us/stemQ/data/2.611/2.611_Question_20.json\n",
      "/Users/wesleymonteith/code/project-m2-2024-chatbots-r-us/stemQ/data/2.611/2.611_Question_16.json\n",
      "/Users/wesleymonteith/code/project-m2-2024-chatbots-r-us/stemQ/data/14.01/14.01_Question_09.json\n",
      "/Users/wesleymonteith/code/project-m2-2024-chatbots-r-us/stemQ/data/14.01/14.01_Question_25.json\n",
      "/Users/wesleymonteith/code/project-m2-2024-chatbots-r-us/stemQ/data/14.01/14.01_Question_13.json\n",
      "/Users/wesleymonteith/code/project-m2-2024-chatbots-r-us/stemQ/data/14.01/14.01_Question_05.json\n",
      "/Users/wesleymonteith/code/project-m2-2024-chatbots-r-us/stemQ/data/14.01/14.01_Question_29.json\n",
      "/Users/wesleymonteith/code/project-m2-2024-chatbots-r-us/stemQ/data/14.01/14.01_Question_28.json\n",
      "/Users/wesleymonteith/code/project-m2-2024-chatbots-r-us/stemQ/data/14.01/14.01_Question_04.json\n",
      "/Users/wesleymonteith/code/project-m2-2024-chatbots-r-us/stemQ/data/14.01/14.01_Question_12.json\n",
      "/Users/wesleymonteith/code/project-m2-2024-chatbots-r-us/stemQ/data/14.01/14.01_Question_24.json\n",
      "/Users/wesleymonteith/code/project-m2-2024-chatbots-r-us/stemQ/data/14.01/14.01_Question_08.json\n",
      "/Users/wesleymonteith/code/project-m2-2024-chatbots-r-us/stemQ/data/14.01/14.01_Question_15.json\n",
      "/Users/wesleymonteith/code/project-m2-2024-chatbots-r-us/stemQ/data/14.01/14.01_Question_03.json\n",
      "/Users/wesleymonteith/code/project-m2-2024-chatbots-r-us/stemQ/data/14.01/14.01_Question_19.json\n",
      "/Users/wesleymonteith/code/project-m2-2024-chatbots-r-us/stemQ/data/14.01/14.01_Question_23.json\n",
      "/Users/wesleymonteith/code/project-m2-2024-chatbots-r-us/stemQ/data/14.01/14.01_Question_22.json\n",
      "/Users/wesleymonteith/code/project-m2-2024-chatbots-r-us/stemQ/data/14.01/14.01_Question_18.json\n",
      "/Users/wesleymonteith/code/project-m2-2024-chatbots-r-us/stemQ/data/14.01/14.01_Question_02.json\n",
      "/Users/wesleymonteith/code/project-m2-2024-chatbots-r-us/stemQ/data/14.01/14.01_Question_14.json\n",
      "/Users/wesleymonteith/code/project-m2-2024-chatbots-r-us/stemQ/data/14.01/14.01_Question_01.json\n",
      "/Users/wesleymonteith/code/project-m2-2024-chatbots-r-us/stemQ/data/14.01/14.01_Question_17.json\n",
      "/Users/wesleymonteith/code/project-m2-2024-chatbots-r-us/stemQ/data/14.01/14.01_Question_21.json\n",
      "/Users/wesleymonteith/code/project-m2-2024-chatbots-r-us/stemQ/data/14.01/14.01_Question_20.json\n",
      "/Users/wesleymonteith/code/project-m2-2024-chatbots-r-us/stemQ/data/14.01/14.01_Question_16.json\n",
      "/Users/wesleymonteith/code/project-m2-2024-chatbots-r-us/stemQ/data/14.01/14.01_Question_27.json\n",
      "/Users/wesleymonteith/code/project-m2-2024-chatbots-r-us/stemQ/data/14.01/14.01_Question_07.json\n",
      "/Users/wesleymonteith/code/project-m2-2024-chatbots-r-us/stemQ/data/14.01/14.01_Question_11.json\n",
      "/Users/wesleymonteith/code/project-m2-2024-chatbots-r-us/stemQ/data/14.01/14.01_Question_10.json\n",
      "/Users/wesleymonteith/code/project-m2-2024-chatbots-r-us/stemQ/data/14.01/14.01_Question_06.json\n",
      "/Users/wesleymonteith/code/project-m2-2024-chatbots-r-us/stemQ/data/14.01/14.01_Question_26.json\n",
      "/Users/wesleymonteith/code/project-m2-2024-chatbots-r-us/stemQ/data/3.012/3.012_Question_16.json\n",
      "/Users/wesleymonteith/code/project-m2-2024-chatbots-r-us/stemQ/data/3.012/3.012_Question_20.json\n",
      "/Users/wesleymonteith/code/project-m2-2024-chatbots-r-us/stemQ/data/3.012/3.012_Question_21.json\n",
      "/Users/wesleymonteith/code/project-m2-2024-chatbots-r-us/stemQ/data/3.012/3.012_Question_17.json\n",
      "/Users/wesleymonteith/code/project-m2-2024-chatbots-r-us/stemQ/data/3.012/3.012_Question_01.json\n",
      "/Users/wesleymonteith/code/project-m2-2024-chatbots-r-us/stemQ/data/3.012/3.012_Question_06.json\n",
      "/Users/wesleymonteith/code/project-m2-2024-chatbots-r-us/stemQ/data/3.012/3.012_Question_10.json\n",
      "/Users/wesleymonteith/code/project-m2-2024-chatbots-r-us/stemQ/data/3.012/3.012_Question_11.json\n",
      "/Users/wesleymonteith/code/project-m2-2024-chatbots-r-us/stemQ/data/3.012/3.012_Question_07.json\n",
      "/Users/wesleymonteith/code/project-m2-2024-chatbots-r-us/stemQ/data/3.012/3.012_Question_24.json\n",
      "/Users/wesleymonteith/code/project-m2-2024-chatbots-r-us/stemQ/data/3.012/3.012_Question_08.json\n",
      "/Users/wesleymonteith/code/project-m2-2024-chatbots-r-us/stemQ/data/3.012/3.012_Question_12.json\n",
      "/Users/wesleymonteith/code/project-m2-2024-chatbots-r-us/stemQ/data/3.012/3.012_Question_04.json\n",
      "/Users/wesleymonteith/code/project-m2-2024-chatbots-r-us/stemQ/data/3.012/3.012_Question_05.json\n",
      "/Users/wesleymonteith/code/project-m2-2024-chatbots-r-us/stemQ/data/3.012/3.012_Question_13.json\n",
      "/Users/wesleymonteith/code/project-m2-2024-chatbots-r-us/stemQ/data/3.012/3.012_Question_09.json\n",
      "/Users/wesleymonteith/code/project-m2-2024-chatbots-r-us/stemQ/data/3.012/3.012_Question_25.json\n",
      "/Users/wesleymonteith/code/project-m2-2024-chatbots-r-us/stemQ/data/3.012/3.012_Question_14.json\n",
      "/Users/wesleymonteith/code/project-m2-2024-chatbots-r-us/stemQ/data/3.012/3.012_Question_02.json\n",
      "/Users/wesleymonteith/code/project-m2-2024-chatbots-r-us/stemQ/data/3.012/3.012_Question_22.json\n",
      "/Users/wesleymonteith/code/project-m2-2024-chatbots-r-us/stemQ/data/3.012/3.012_Question_18.json\n",
      "/Users/wesleymonteith/code/project-m2-2024-chatbots-r-us/stemQ/data/3.012/3.012_Question_19.json\n",
      "/Users/wesleymonteith/code/project-m2-2024-chatbots-r-us/stemQ/data/3.012/3.012_Question_23.json\n",
      "/Users/wesleymonteith/code/project-m2-2024-chatbots-r-us/stemQ/data/3.012/3.012_Question_03.json\n",
      "/Users/wesleymonteith/code/project-m2-2024-chatbots-r-us/stemQ/data/3.012/3.012_Question_15.json\n",
      "/Users/wesleymonteith/code/project-m2-2024-chatbots-r-us/stemQ/data/16.03+4/16.03+4_Question_11.json\n",
      "/Users/wesleymonteith/code/project-m2-2024-chatbots-r-us/stemQ/data/16.03+4/16.03+4_Question_07.json\n",
      "/Users/wesleymonteith/code/project-m2-2024-chatbots-r-us/stemQ/data/16.03+4/16.03+4_Question_06.json\n",
      "/Users/wesleymonteith/code/project-m2-2024-chatbots-r-us/stemQ/data/16.03+4/16.03+4_Question_10.json\n",
      "/Users/wesleymonteith/code/project-m2-2024-chatbots-r-us/stemQ/data/16.03+4/16.03+4_Question_21.json\n",
      "/Users/wesleymonteith/code/project-m2-2024-chatbots-r-us/stemQ/data/16.03+4/16.03+4_Question_17.json\n",
      "/Users/wesleymonteith/code/project-m2-2024-chatbots-r-us/stemQ/data/16.03+4/16.03+4_Question_01.json\n",
      "/Users/wesleymonteith/code/project-m2-2024-chatbots-r-us/stemQ/data/16.03+4/16.03+4_Question_16.json\n",
      "/Users/wesleymonteith/code/project-m2-2024-chatbots-r-us/stemQ/data/16.03+4/16.03+4_Question_20.json\n",
      "/Users/wesleymonteith/code/project-m2-2024-chatbots-r-us/stemQ/data/16.03+4/16.03+4_Question_19.json\n",
      "/Users/wesleymonteith/code/project-m2-2024-chatbots-r-us/stemQ/data/16.03+4/16.03+4_Question_03.json\n",
      "/Users/wesleymonteith/code/project-m2-2024-chatbots-r-us/stemQ/data/16.03+4/16.03+4_Question_15.json\n",
      "/Users/wesleymonteith/code/project-m2-2024-chatbots-r-us/stemQ/data/16.03+4/16.03+4_Question_14.json\n",
      "/Users/wesleymonteith/code/project-m2-2024-chatbots-r-us/stemQ/data/16.03+4/16.03+4_Question_02.json\n",
      "/Users/wesleymonteith/code/project-m2-2024-chatbots-r-us/stemQ/data/16.03+4/16.03+4_Question_18.json\n",
      "/Users/wesleymonteith/code/project-m2-2024-chatbots-r-us/stemQ/data/16.03+4/16.03+4_Question_05.json\n",
      "/Users/wesleymonteith/code/project-m2-2024-chatbots-r-us/stemQ/data/16.03+4/16.03+4_Question_13.json\n",
      "/Users/wesleymonteith/code/project-m2-2024-chatbots-r-us/stemQ/data/16.03+4/16.03+4_Question_09.json\n",
      "/Users/wesleymonteith/code/project-m2-2024-chatbots-r-us/stemQ/data/16.03+4/16.03+4_Question_08.json\n",
      "/Users/wesleymonteith/code/project-m2-2024-chatbots-r-us/stemQ/data/16.03+4/16.03+4_Question_12.json\n",
      "/Users/wesleymonteith/code/project-m2-2024-chatbots-r-us/stemQ/data/16.03+4/16.03+4_Question_04.json\n",
      "/Users/wesleymonteith/code/project-m2-2024-chatbots-r-us/stemQ/data/2.110J/2.110J_Question_04.json\n",
      "/Users/wesleymonteith/code/project-m2-2024-chatbots-r-us/stemQ/data/2.110J/2.110J_Question_12.json\n",
      "/Users/wesleymonteith/code/project-m2-2024-chatbots-r-us/stemQ/data/2.110J/2.110J_Question_24.json\n",
      "/Users/wesleymonteith/code/project-m2-2024-chatbots-r-us/stemQ/data/2.110J/2.110J_Question_08.json\n",
      "/Users/wesleymonteith/code/project-m2-2024-chatbots-r-us/stemQ/data/2.110J/2.110J_Question_09.json\n",
      "/Users/wesleymonteith/code/project-m2-2024-chatbots-r-us/stemQ/data/2.110J/2.110J_Question_25.json\n",
      "/Users/wesleymonteith/code/project-m2-2024-chatbots-r-us/stemQ/data/2.110J/2.110J_Question_13.json\n",
      "/Users/wesleymonteith/code/project-m2-2024-chatbots-r-us/stemQ/data/2.110J/2.110J_Question_05.json\n",
      "/Users/wesleymonteith/code/project-m2-2024-chatbots-r-us/stemQ/data/2.110J/2.110J_Question_22.json\n",
      "/Users/wesleymonteith/code/project-m2-2024-chatbots-r-us/stemQ/data/2.110J/2.110J_Question_18.json\n",
      "/Users/wesleymonteith/code/project-m2-2024-chatbots-r-us/stemQ/data/2.110J/2.110J_Question_02.json\n",
      "/Users/wesleymonteith/code/project-m2-2024-chatbots-r-us/stemQ/data/2.110J/2.110J_Question_14.json\n",
      "/Users/wesleymonteith/code/project-m2-2024-chatbots-r-us/stemQ/data/2.110J/2.110J_Question_15.json\n",
      "/Users/wesleymonteith/code/project-m2-2024-chatbots-r-us/stemQ/data/2.110J/2.110J_Question_03.json\n",
      "/Users/wesleymonteith/code/project-m2-2024-chatbots-r-us/stemQ/data/2.110J/2.110J_Question_19.json\n",
      "/Users/wesleymonteith/code/project-m2-2024-chatbots-r-us/stemQ/data/2.110J/2.110J_Question_23.json\n",
      "/Users/wesleymonteith/code/project-m2-2024-chatbots-r-us/stemQ/data/2.110J/2.110J_Question_20.json\n",
      "/Users/wesleymonteith/code/project-m2-2024-chatbots-r-us/stemQ/data/2.110J/2.110J_Question_16.json\n",
      "/Users/wesleymonteith/code/project-m2-2024-chatbots-r-us/stemQ/data/2.110J/2.110J_Question_01.json\n",
      "/Users/wesleymonteith/code/project-m2-2024-chatbots-r-us/stemQ/data/2.110J/2.110J_Question_17.json\n",
      "/Users/wesleymonteith/code/project-m2-2024-chatbots-r-us/stemQ/data/2.110J/2.110J_Question_21.json\n",
      "/Users/wesleymonteith/code/project-m2-2024-chatbots-r-us/stemQ/data/2.110J/2.110J_Question_10.json\n",
      "/Users/wesleymonteith/code/project-m2-2024-chatbots-r-us/stemQ/data/2.110J/2.110J_Question_06.json\n",
      "/Users/wesleymonteith/code/project-m2-2024-chatbots-r-us/stemQ/data/2.110J/2.110J_Question_07.json\n",
      "/Users/wesleymonteith/code/project-m2-2024-chatbots-r-us/stemQ/data/2.110J/2.110J_Question_11.json\n",
      "/Users/wesleymonteith/code/project-m2-2024-chatbots-r-us/stemQ/data/3.091/3.091_Question_16.json\n",
      "/Users/wesleymonteith/code/project-m2-2024-chatbots-r-us/stemQ/data/3.091/3.091_Question_20.json\n",
      "/Users/wesleymonteith/code/project-m2-2024-chatbots-r-us/stemQ/data/3.091/3.091_Question_21.json\n",
      "/Users/wesleymonteith/code/project-m2-2024-chatbots-r-us/stemQ/data/3.091/3.091_Question_01.json\n",
      "/Users/wesleymonteith/code/project-m2-2024-chatbots-r-us/stemQ/data/3.091/3.091_Question_17.json\n",
      "/Users/wesleymonteith/code/project-m2-2024-chatbots-r-us/stemQ/data/3.091/3.091_Question_10.json\n",
      "/Users/wesleymonteith/code/project-m2-2024-chatbots-r-us/stemQ/data/3.091/3.091_Question_06.json\n",
      "/Users/wesleymonteith/code/project-m2-2024-chatbots-r-us/stemQ/data/3.091/3.091_Question_07.json\n",
      "/Users/wesleymonteith/code/project-m2-2024-chatbots-r-us/stemQ/data/3.091/3.091_Question_11.json\n",
      "/Users/wesleymonteith/code/project-m2-2024-chatbots-r-us/stemQ/data/3.091/3.091_Question_24.json\n",
      "/Users/wesleymonteith/code/project-m2-2024-chatbots-r-us/stemQ/data/3.091/3.091_Question_08.json\n",
      "/Users/wesleymonteith/code/project-m2-2024-chatbots-r-us/stemQ/data/3.091/3.091_Question_04.json\n",
      "/Users/wesleymonteith/code/project-m2-2024-chatbots-r-us/stemQ/data/3.091/3.091_Question_12.json\n",
      "/Users/wesleymonteith/code/project-m2-2024-chatbots-r-us/stemQ/data/3.091/3.091_Question_13.json\n",
      "/Users/wesleymonteith/code/project-m2-2024-chatbots-r-us/stemQ/data/3.091/3.091_Question_05.json\n",
      "/Users/wesleymonteith/code/project-m2-2024-chatbots-r-us/stemQ/data/3.091/3.091_Question_09.json\n",
      "/Users/wesleymonteith/code/project-m2-2024-chatbots-r-us/stemQ/data/3.091/3.091_Question_25.json\n",
      "/Users/wesleymonteith/code/project-m2-2024-chatbots-r-us/stemQ/data/3.091/3.091_Question_02.json\n",
      "/Users/wesleymonteith/code/project-m2-2024-chatbots-r-us/stemQ/data/3.091/3.091_Question_14.json\n",
      "/Users/wesleymonteith/code/project-m2-2024-chatbots-r-us/stemQ/data/3.091/3.091_Question_22.json\n",
      "/Users/wesleymonteith/code/project-m2-2024-chatbots-r-us/stemQ/data/3.091/3.091_Question_18.json\n",
      "/Users/wesleymonteith/code/project-m2-2024-chatbots-r-us/stemQ/data/3.091/3.091_Question_19.json\n",
      "/Users/wesleymonteith/code/project-m2-2024-chatbots-r-us/stemQ/data/3.091/3.091_Question_23.json\n",
      "/Users/wesleymonteith/code/project-m2-2024-chatbots-r-us/stemQ/data/3.091/3.091_Question_15.json\n",
      "/Users/wesleymonteith/code/project-m2-2024-chatbots-r-us/stemQ/data/3.091/3.091_Question_03.json\n",
      "/Users/wesleymonteith/code/project-m2-2024-chatbots-r-us/stemQ/data/Cornell CS 4420/Cornell CS 4420_Question_17.json\n",
      "/Users/wesleymonteith/code/project-m2-2024-chatbots-r-us/stemQ/data/Cornell CS 4420/Cornell CS 4420_Question_01.json\n",
      "/Users/wesleymonteith/code/project-m2-2024-chatbots-r-us/stemQ/data/Cornell CS 4420/Cornell CS 4420_Question_16.json\n",
      "/Users/wesleymonteith/code/project-m2-2024-chatbots-r-us/stemQ/data/Cornell CS 4420/Cornell CS 4420_Question_20.json\n",
      "/Users/wesleymonteith/code/project-m2-2024-chatbots-r-us/stemQ/data/Cornell CS 4420/Cornell CS 4420_Question_11.json\n",
      "/Users/wesleymonteith/code/project-m2-2024-chatbots-r-us/stemQ/data/Cornell CS 4420/Cornell CS 4420_Question_07.json\n",
      "/Users/wesleymonteith/code/project-m2-2024-chatbots-r-us/stemQ/data/Cornell CS 4420/Cornell CS 4420_Question_06.json\n",
      "/Users/wesleymonteith/code/project-m2-2024-chatbots-r-us/stemQ/data/Cornell CS 4420/Cornell CS 4420_Question_10.json\n",
      "/Users/wesleymonteith/code/project-m2-2024-chatbots-r-us/stemQ/data/Cornell CS 4420/Cornell CS 4420_Question_05.json\n",
      "/Users/wesleymonteith/code/project-m2-2024-chatbots-r-us/stemQ/data/Cornell CS 4420/Cornell CS 4420_Question_13.json\n",
      "/Users/wesleymonteith/code/project-m2-2024-chatbots-r-us/stemQ/data/Cornell CS 4420/Cornell CS 4420_Question_09.json\n",
      "/Users/wesleymonteith/code/project-m2-2024-chatbots-r-us/stemQ/data/Cornell CS 4420/Cornell CS 4420_Question_08.json\n",
      "/Users/wesleymonteith/code/project-m2-2024-chatbots-r-us/stemQ/data/Cornell CS 4420/Cornell CS 4420_Question_12.json\n",
      "/Users/wesleymonteith/code/project-m2-2024-chatbots-r-us/stemQ/data/Cornell CS 4420/Cornell CS 4420_Question_04.json\n",
      "/Users/wesleymonteith/code/project-m2-2024-chatbots-r-us/stemQ/data/Cornell CS 4420/Cornell CS 4420_Question_19.json\n",
      "/Users/wesleymonteith/code/project-m2-2024-chatbots-r-us/stemQ/data/Cornell CS 4420/Cornell CS 4420_Question_03.json\n",
      "/Users/wesleymonteith/code/project-m2-2024-chatbots-r-us/stemQ/data/Cornell CS 4420/Cornell CS 4420_Question_15.json\n",
      "/Users/wesleymonteith/code/project-m2-2024-chatbots-r-us/stemQ/data/Cornell CS 4420/Cornell CS 4420_Question_14.json\n",
      "/Users/wesleymonteith/code/project-m2-2024-chatbots-r-us/stemQ/data/Cornell CS 4420/Cornell CS 4420_Question_02.json\n",
      "/Users/wesleymonteith/code/project-m2-2024-chatbots-r-us/stemQ/data/Cornell CS 4420/Cornell CS 4420_Question_18.json\n",
      "/Users/wesleymonteith/code/project-m2-2024-chatbots-r-us/stemQ/data/5.111/5.111_Question_14.json\n",
      "/Users/wesleymonteith/code/project-m2-2024-chatbots-r-us/stemQ/data/5.111/5.111_Question_02.json\n",
      "/Users/wesleymonteith/code/project-m2-2024-chatbots-r-us/stemQ/data/5.111/5.111_Question_18.json\n",
      "/Users/wesleymonteith/code/project-m2-2024-chatbots-r-us/stemQ/data/5.111/5.111_Question_22.json\n",
      "/Users/wesleymonteith/code/project-m2-2024-chatbots-r-us/stemQ/data/5.111/5.111_Question_23.json\n",
      "/Users/wesleymonteith/code/project-m2-2024-chatbots-r-us/stemQ/data/5.111/5.111_Question_19.json\n",
      "/Users/wesleymonteith/code/project-m2-2024-chatbots-r-us/stemQ/data/5.111/5.111_Question_03.json\n",
      "/Users/wesleymonteith/code/project-m2-2024-chatbots-r-us/stemQ/data/5.111/5.111_Question_15.json\n",
      "/Users/wesleymonteith/code/project-m2-2024-chatbots-r-us/stemQ/data/5.111/5.111_Question_08.json\n",
      "/Users/wesleymonteith/code/project-m2-2024-chatbots-r-us/stemQ/data/5.111/5.111_Question_24.json\n",
      "/Users/wesleymonteith/code/project-m2-2024-chatbots-r-us/stemQ/data/5.111/5.111_Question_12.json\n",
      "/Users/wesleymonteith/code/project-m2-2024-chatbots-r-us/stemQ/data/5.111/5.111_Question_04.json\n",
      "/Users/wesleymonteith/code/project-m2-2024-chatbots-r-us/stemQ/data/5.111/5.111_Question_05.json\n",
      "/Users/wesleymonteith/code/project-m2-2024-chatbots-r-us/stemQ/data/5.111/5.111_Question_13.json\n",
      "/Users/wesleymonteith/code/project-m2-2024-chatbots-r-us/stemQ/data/5.111/5.111_Question_25.json\n",
      "/Users/wesleymonteith/code/project-m2-2024-chatbots-r-us/stemQ/data/5.111/5.111_Question_09.json\n",
      "/Users/wesleymonteith/code/project-m2-2024-chatbots-r-us/stemQ/data/5.111/5.111_Question_06.json\n",
      "/Users/wesleymonteith/code/project-m2-2024-chatbots-r-us/stemQ/data/5.111/5.111_Question_10.json\n",
      "/Users/wesleymonteith/code/project-m2-2024-chatbots-r-us/stemQ/data/5.111/5.111_Question_11.json\n",
      "/Users/wesleymonteith/code/project-m2-2024-chatbots-r-us/stemQ/data/5.111/5.111_Question_07.json\n",
      "/Users/wesleymonteith/code/project-m2-2024-chatbots-r-us/stemQ/data/5.111/5.111_Question_16.json\n",
      "/Users/wesleymonteith/code/project-m2-2024-chatbots-r-us/stemQ/data/5.111/5.111_Question_20.json\n",
      "/Users/wesleymonteith/code/project-m2-2024-chatbots-r-us/stemQ/data/5.111/5.111_Question_21.json\n",
      "/Users/wesleymonteith/code/project-m2-2024-chatbots-r-us/stemQ/data/5.111/5.111_Question_17.json\n",
      "/Users/wesleymonteith/code/project-m2-2024-chatbots-r-us/stemQ/data/5.111/5.111_Question_01.json\n",
      "/Users/wesleymonteith/code/project-m2-2024-chatbots-r-us/stemQ/data/2.050J/2.050J_Question_17.json\n",
      "/Users/wesleymonteith/code/project-m2-2024-chatbots-r-us/stemQ/data/2.050J/2.050J_Question_01.json\n",
      "/Users/wesleymonteith/code/project-m2-2024-chatbots-r-us/stemQ/data/2.050J/2.050J_Question_21.json\n",
      "/Users/wesleymonteith/code/project-m2-2024-chatbots-r-us/stemQ/data/2.050J/2.050J_Question_20.json\n",
      "/Users/wesleymonteith/code/project-m2-2024-chatbots-r-us/stemQ/data/2.050J/2.050J_Question_16.json\n",
      "/Users/wesleymonteith/code/project-m2-2024-chatbots-r-us/stemQ/data/2.050J/2.050J_Question_11.json\n",
      "/Users/wesleymonteith/code/project-m2-2024-chatbots-r-us/stemQ/data/2.050J/2.050J_Question_07.json\n",
      "/Users/wesleymonteith/code/project-m2-2024-chatbots-r-us/stemQ/data/2.050J/2.050J_Question_06.json\n",
      "/Users/wesleymonteith/code/project-m2-2024-chatbots-r-us/stemQ/data/2.050J/2.050J_Question_10.json\n",
      "/Users/wesleymonteith/code/project-m2-2024-chatbots-r-us/stemQ/data/2.050J/2.050J_Question_09.json\n",
      "/Users/wesleymonteith/code/project-m2-2024-chatbots-r-us/stemQ/data/2.050J/2.050J_Question_05.json\n",
      "/Users/wesleymonteith/code/project-m2-2024-chatbots-r-us/stemQ/data/2.050J/2.050J_Question_13.json\n",
      "/Users/wesleymonteith/code/project-m2-2024-chatbots-r-us/stemQ/data/2.050J/2.050J_Question_12.json\n",
      "/Users/wesleymonteith/code/project-m2-2024-chatbots-r-us/stemQ/data/2.050J/2.050J_Question_04.json\n",
      "/Users/wesleymonteith/code/project-m2-2024-chatbots-r-us/stemQ/data/2.050J/2.050J_Question_08.json\n",
      "/Users/wesleymonteith/code/project-m2-2024-chatbots-r-us/stemQ/data/2.050J/2.050J_Question_24.json\n",
      "/Users/wesleymonteith/code/project-m2-2024-chatbots-r-us/stemQ/data/2.050J/2.050J_Question_03.json\n",
      "/Users/wesleymonteith/code/project-m2-2024-chatbots-r-us/stemQ/data/2.050J/2.050J_Question_15.json\n",
      "/Users/wesleymonteith/code/project-m2-2024-chatbots-r-us/stemQ/data/2.050J/2.050J_Question_23.json\n",
      "/Users/wesleymonteith/code/project-m2-2024-chatbots-r-us/stemQ/data/2.050J/2.050J_Question_19.json\n",
      "/Users/wesleymonteith/code/project-m2-2024-chatbots-r-us/stemQ/data/2.050J/2.050J_Question_18.json\n",
      "/Users/wesleymonteith/code/project-m2-2024-chatbots-r-us/stemQ/data/2.050J/2.050J_Question_22.json\n",
      "/Users/wesleymonteith/code/project-m2-2024-chatbots-r-us/stemQ/data/2.050J/2.050J_Question_14.json\n",
      "/Users/wesleymonteith/code/project-m2-2024-chatbots-r-us/stemQ/data/2.050J/2.050J_Question_02.json\n",
      "/Users/wesleymonteith/code/project-m2-2024-chatbots-r-us/stemQ/data/6.036/6.036_Question_27.json\n",
      "/Users/wesleymonteith/code/project-m2-2024-chatbots-r-us/stemQ/data/6.036/6.036_Question_11.json\n",
      "/Users/wesleymonteith/code/project-m2-2024-chatbots-r-us/stemQ/data/6.036/6.036_Question_07.json\n",
      "/Users/wesleymonteith/code/project-m2-2024-chatbots-r-us/stemQ/data/6.036/6.036_Question_06.json\n",
      "/Users/wesleymonteith/code/project-m2-2024-chatbots-r-us/stemQ/data/6.036/6.036_Question_10.json\n",
      "/Users/wesleymonteith/code/project-m2-2024-chatbots-r-us/stemQ/data/6.036/6.036_Question_30.json\n",
      "/Users/wesleymonteith/code/project-m2-2024-chatbots-r-us/stemQ/data/6.036/6.036_Question_26.json\n",
      "/Users/wesleymonteith/code/project-m2-2024-chatbots-r-us/stemQ/data/6.036/6.036_Question_17.json\n",
      "/Users/wesleymonteith/code/project-m2-2024-chatbots-r-us/stemQ/data/6.036/6.036_Question_01.json\n",
      "/Users/wesleymonteith/code/project-m2-2024-chatbots-r-us/stemQ/data/6.036/6.036_Question_21.json\n",
      "/Users/wesleymonteith/code/project-m2-2024-chatbots-r-us/stemQ/data/6.036/6.036_Question_20.json\n",
      "/Users/wesleymonteith/code/project-m2-2024-chatbots-r-us/stemQ/data/6.036/6.036_Question_16.json\n",
      "/Users/wesleymonteith/code/project-m2-2024-chatbots-r-us/stemQ/data/6.036/6.036_Question_03.json\n",
      "/Users/wesleymonteith/code/project-m2-2024-chatbots-r-us/stemQ/data/6.036/6.036_Question_15.json\n",
      "/Users/wesleymonteith/code/project-m2-2024-chatbots-r-us/stemQ/data/6.036/6.036_Question_19.json\n",
      "/Users/wesleymonteith/code/project-m2-2024-chatbots-r-us/stemQ/data/6.036/6.036_Question_23.json\n",
      "/Users/wesleymonteith/code/project-m2-2024-chatbots-r-us/stemQ/data/6.036/6.036_Question_22.json\n",
      "/Users/wesleymonteith/code/project-m2-2024-chatbots-r-us/stemQ/data/6.036/6.036_Question_18.json\n",
      "/Users/wesleymonteith/code/project-m2-2024-chatbots-r-us/stemQ/data/6.036/6.036_Question_14.json\n",
      "/Users/wesleymonteith/code/project-m2-2024-chatbots-r-us/stemQ/data/6.036/6.036_Question_02.json\n",
      "/Users/wesleymonteith/code/project-m2-2024-chatbots-r-us/stemQ/data/6.036/6.036_Question_09.json\n",
      "/Users/wesleymonteith/code/project-m2-2024-chatbots-r-us/stemQ/data/6.036/6.036_Question_25.json\n",
      "/Users/wesleymonteith/code/project-m2-2024-chatbots-r-us/stemQ/data/6.036/6.036_Question_05.json\n",
      "/Users/wesleymonteith/code/project-m2-2024-chatbots-r-us/stemQ/data/6.036/6.036_Question_13.json\n",
      "/Users/wesleymonteith/code/project-m2-2024-chatbots-r-us/stemQ/data/6.036/6.036_Question_29.json\n",
      "/Users/wesleymonteith/code/project-m2-2024-chatbots-r-us/stemQ/data/6.036/6.036_Question_28.json\n",
      "/Users/wesleymonteith/code/project-m2-2024-chatbots-r-us/stemQ/data/6.036/6.036_Question_12.json\n",
      "/Users/wesleymonteith/code/project-m2-2024-chatbots-r-us/stemQ/data/6.036/6.036_Question_04.json\n",
      "/Users/wesleymonteith/code/project-m2-2024-chatbots-r-us/stemQ/data/6.036/6.036_Question_24.json\n",
      "/Users/wesleymonteith/code/project-m2-2024-chatbots-r-us/stemQ/data/6.036/6.036_Question_08.json\n",
      "/Users/wesleymonteith/code/project-m2-2024-chatbots-r-us/stemQ/data/8.282/8.282_Question_07.json\n",
      "/Users/wesleymonteith/code/project-m2-2024-chatbots-r-us/stemQ/data/8.282/8.282_Question_11.json\n",
      "/Users/wesleymonteith/code/project-m2-2024-chatbots-r-us/stemQ/data/8.282/8.282_Question_10.json\n",
      "/Users/wesleymonteith/code/project-m2-2024-chatbots-r-us/stemQ/data/8.282/8.282_Question_06.json\n",
      "/Users/wesleymonteith/code/project-m2-2024-chatbots-r-us/stemQ/data/8.282/8.282_Question_01.json\n",
      "/Users/wesleymonteith/code/project-m2-2024-chatbots-r-us/stemQ/data/8.282/8.282_Question_17.json\n",
      "/Users/wesleymonteith/code/project-m2-2024-chatbots-r-us/stemQ/data/8.282/8.282_Question_16.json\n",
      "/Users/wesleymonteith/code/project-m2-2024-chatbots-r-us/stemQ/data/8.282/8.282_Question_20.json\n",
      "/Users/wesleymonteith/code/project-m2-2024-chatbots-r-us/stemQ/data/8.282/8.282_Question_19.json\n",
      "/Users/wesleymonteith/code/project-m2-2024-chatbots-r-us/stemQ/data/8.282/8.282_Question_15.json\n",
      "/Users/wesleymonteith/code/project-m2-2024-chatbots-r-us/stemQ/data/8.282/8.282_Question_03.json\n",
      "/Users/wesleymonteith/code/project-m2-2024-chatbots-r-us/stemQ/data/8.282/8.282_Question_02.json\n",
      "/Users/wesleymonteith/code/project-m2-2024-chatbots-r-us/stemQ/data/8.282/8.282_Question_14.json\n",
      "/Users/wesleymonteith/code/project-m2-2024-chatbots-r-us/stemQ/data/8.282/8.282_Question_18.json\n",
      "/Users/wesleymonteith/code/project-m2-2024-chatbots-r-us/stemQ/data/8.282/8.282_Question_13.json\n",
      "/Users/wesleymonteith/code/project-m2-2024-chatbots-r-us/stemQ/data/8.282/8.282_Question_05.json\n",
      "/Users/wesleymonteith/code/project-m2-2024-chatbots-r-us/stemQ/data/8.282/8.282_Question_09.json\n",
      "/Users/wesleymonteith/code/project-m2-2024-chatbots-r-us/stemQ/data/8.282/8.282_Question_08.json\n",
      "/Users/wesleymonteith/code/project-m2-2024-chatbots-r-us/stemQ/data/8.282/8.282_Question_04.json\n",
      "/Users/wesleymonteith/code/project-m2-2024-chatbots-r-us/stemQ/data/8.282/8.282_Question_12.json\n"
     ]
    }
   ],
   "source": [
    "stemQ_files = []\n",
    "for root, dirs, files in os.walk(\"/Users/wesleymonteith/code/project-m2-2024-chatbots-r-us/stemQ/data\"):\n",
    "    for file in files:\n",
    "        if file.endswith('.json'):\n",
    "            print(os.path.join(root, file))\n",
    "            stemQ_files.append(os.path.join(root, file))"
   ]
  },
  {
   "cell_type": "code",
   "execution_count": 14,
   "metadata": {},
   "outputs": [
    {
     "data": {
      "application/vnd.jupyter.widget-view+json": {
       "model_id": "dad3a73c0e0745e4a1d4d6cee833caa4",
       "version_major": 2,
       "version_minor": 0
      },
      "text/plain": [
       "Resolving data files:   0%|          | 0/667 [00:00<?, ?it/s]"
      ]
     },
     "metadata": {},
     "output_type": "display_data"
    },
    {
     "data": {
      "application/vnd.jupyter.widget-view+json": {
       "model_id": "b65c9f6079a54db1b2658174d641ef79",
       "version_major": 2,
       "version_minor": 0
      },
      "text/plain": [
       "Generating train split: 0 examples [00:00, ? examples/s]"
      ]
     },
     "metadata": {},
     "output_type": "display_data"
    }
   ],
   "source": [
    "stemQ = load_dataset(\"json\", data_files=stemQ_files)"
   ]
  },
  {
   "cell_type": "code",
   "execution_count": 22,
   "metadata": {},
   "outputs": [],
   "source": [
    "relevant_courses = ['Calculus II', 'Calculus for Wharton Students',\n",
    "'Computer Architecture',\n",
    "'Fundamentals of Physics I', 'Hydrodynamics',\n",
    "'Intermediate Calculus', 'Introduction to Machine Learning',\n",
    "'Introduction to Probability',\n",
    "'Mathematics for Materials Scientists and Engineers',\n",
    "'Nonlinear Dynamics I: Chaos',\n",
    "'Probability',\n",
    "'Probability and Random Variables', 'Quantum Physics',\n",
    "'Signals and Systems', 'Statistical Thinking and Data Analysis',\n",
    "'Theory of Numbers',\n",
    "'Unified Engineering 1 and 2', 'Unified Engineering 3 and 4']\n",
    "\n",
    "stemQ[\"train\"] = stemQ[\"train\"].filter(lambda sample: sample[\"Course\"] in relevant_courses)"
   ]
  },
  {
   "cell_type": "code",
   "execution_count": 28,
   "metadata": {},
   "outputs": [
    {
     "data": {
      "application/vnd.jupyter.widget-view+json": {
       "model_id": "ab2310c0b2ff4ca184bd50959d829291",
       "version_major": 2,
       "version_minor": 0
      },
      "text/plain": [
       "Map:   0%|          | 0/441 [00:00<?, ? examples/s]"
      ]
     },
     "metadata": {},
     "output_type": "display_data"
    }
   ],
   "source": [
    "def stemQ_add_choices_to_question(sample:dict):\n",
    "    sample[\"question\"] = sample[\"Original question\"]\n",
    "    sample[\"answer\"] = sample[\"Solution\"]\n",
    "    sample[\"subject\"] = sample[\"Course\"]\n",
    "    for useless_key in ['Course', 'Topic', 'Original question', 'Solution']:\n",
    "        sample.pop(useless_key)\n",
    "    return sample\n",
    "\n",
    "stemQ[\"train\"] = stemQ[\"train\"].map(stemQ_add_choices_to_question)"
   ]
  },
  {
   "cell_type": "code",
   "execution_count": 30,
   "metadata": {},
   "outputs": [
    {
     "data": {
      "application/vnd.jupyter.widget-view+json": {
       "model_id": "e5f09816120c4a0e84e56544f3164a6c",
       "version_major": 2,
       "version_minor": 0
      },
      "text/plain": [
       "Creating json from Arrow format:   0%|          | 0/1 [00:00<?, ?ba/s]"
      ]
     },
     "metadata": {},
     "output_type": "display_data"
    },
    {
     "data": {
      "text/plain": [
       "160591"
      ]
     },
     "execution_count": 30,
     "metadata": {},
     "output_type": "execute_result"
    }
   ],
   "source": [
    "stemQ[\"train\"].to_json(os.path.join(\"project-code-2024\", \"datasets\", \"sft_stemQ_train.jsonl\"))"
   ]
  },
  {
   "cell_type": "code",
   "execution_count": null,
   "metadata": {},
   "outputs": [],
   "source": []
  }
 ],
 "metadata": {
  "kernelspec": {
   "display_name": "mnlp",
   "language": "python",
   "name": "python3"
  },
  "language_info": {
   "codemirror_mode": {
    "name": "ipython",
    "version": 3
   },
   "file_extension": ".py",
   "mimetype": "text/x-python",
   "name": "python",
   "nbconvert_exporter": "python",
   "pygments_lexer": "ipython3",
   "version": "3.10.12"
  }
 },
 "nbformat": 4,
 "nbformat_minor": 2
}
